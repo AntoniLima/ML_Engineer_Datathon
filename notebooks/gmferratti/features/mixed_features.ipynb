{
 "cells": [
  {
   "cell_type": "markdown",
   "metadata": {
    "vscode": {
     "languageId": "plaintext"
    }
   },
   "source": [
    "- Ideia de feature: distância entre a data da notícia e a data que o usuário consumiu a notícia"
   ]
  }
 ],
 "metadata": {
  "language_info": {
   "name": "python"
  }
 },
 "nbformat": 4,
 "nbformat_minor": 2
}
