{
 "cells": [
  {
   "cell_type": "markdown",
   "metadata": {
    "vscode": {
     "languageId": "plaintext"
    }
   },
   "source": [
    "- Ideia de feature: distância temporal entre a data da notícia e a data que o usuário consumiu a notícia"
   ]
  },
  {
   "cell_type": "code",
   "execution_count": 1,
   "metadata": {},
   "outputs": [],
   "source": [
    "import os\n",
    "os.chdir(\"c://Users//gufer//OneDrive//Documentos//FIAP//Fase_05//ML_Engineer_Datathon/\")"
   ]
  },
  {
   "cell_type": "code",
   "execution_count": 2,
   "metadata": {},
   "outputs": [],
   "source": [
    "import pandas as pd\n",
    "\n",
    "news = pd.read_parquet(\"data/processed_data/features/news.parquet\")\n",
    "users = pd.read_parquet(\"data/processed_data/features/users.parquet\")"
   ]
  },
  {
   "cell_type": "code",
   "execution_count": 3,
   "metadata": {},
   "outputs": [
    {
     "data": {
      "text/plain": [
       "29333    15:43:42\n",
       "29039    21:17:49\n",
       "46573    19:38:20\n",
       "70146    12:38:20\n",
       "16500    17:44:22\n",
       "           ...   \n",
       "38686    13:14:26\n",
       "66356    21:11:03\n",
       "53893    15:42:59\n",
       "27862    11:27:59\n",
       "77785    11:25:25\n",
       "Name: issuedTime, Length: 25560, dtype: object"
      ]
     },
     "execution_count": 3,
     "metadata": {},
     "output_type": "execute_result"
    }
   ],
   "source": [
    "news.issuedTime"
   ]
  },
  {
   "cell_type": "code",
   "execution_count": 4,
   "metadata": {},
   "outputs": [
    {
     "data": {
      "text/plain": [
       "0         14:10:06\n",
       "1         19:44:24\n",
       "2         19:45:52\n",
       "3         20:19:50\n",
       "4         18:58:05\n",
       "            ...   \n",
       "808073    01:28:47\n",
       "808074    00:44:20\n",
       "808075    11:03:12\n",
       "808076    06:40:54\n",
       "808077    01:03:43\n",
       "Name: timestampHistoryTime, Length: 808078, dtype: object"
      ]
     },
     "execution_count": 4,
     "metadata": {},
     "output_type": "execute_result"
    }
   ],
   "source": [
    "users.timestampHistoryTime"
   ]
  },
  {
   "cell_type": "code",
   "execution_count": 5,
   "metadata": {},
   "outputs": [
    {
     "name": "stdout",
     "output_type": "stream",
     "text": [
      "<class 'pandas.core.frame.DataFrame'>\n",
      "RangeIndex: 808078 entries, 0 to 808077\n",
      "Data columns (total 16 columns):\n",
      " #   Column                   Non-Null Count   Dtype   \n",
      "---  ------                   --------------   -----   \n",
      " 0   userId                   808078 non-null  object  \n",
      " 1   userType                 808078 non-null  category\n",
      " 2   historySize              808078 non-null  int16   \n",
      " 3   pageId                   808078 non-null  object  \n",
      " 4   numberOfClicksHistory    808078 non-null  int16   \n",
      " 5   timeOnPageHistory        808078 non-null  int32   \n",
      " 6   scrollPercentageHistory  808078 non-null  float64 \n",
      " 7   pageVisitsCountHistory   808078 non-null  int16   \n",
      " 8   minutesSinceLastVisit    808078 non-null  float32 \n",
      " 9   timestampHistoryDate     808078 non-null  object  \n",
      " 10  timestampHistoryTime     808078 non-null  object  \n",
      " 11  timestampHistoryWeekday  808078 non-null  int16   \n",
      " 12  timestampHistoryHour     808078 non-null  int16   \n",
      " 13  isWeekend                808078 non-null  bool    \n",
      " 14  dayPeriod                808078 non-null  category\n",
      " 15  coldStart                808078 non-null  bool    \n",
      "dtypes: bool(2), category(2), float32(1), float64(1), int16(5), int32(1), object(4)\n",
      "memory usage: 47.8+ MB\n"
     ]
    }
   ],
   "source": [
    "users.info()"
   ]
  },
  {
   "cell_type": "code",
   "execution_count": 6,
   "metadata": {},
   "outputs": [
    {
     "name": "stdout",
     "output_type": "stream",
     "text": [
      "<class 'pandas.core.frame.DataFrame'>\n",
      "Index: 25560 entries, 29333 to 77785\n",
      "Data columns (total 12 columns):\n",
      " #   Column          Non-Null Count  Dtype \n",
      "---  ------          --------------  ----- \n",
      " 0   pageId          25560 non-null  object\n",
      " 1   issuedDate      25560 non-null  object\n",
      " 2   issuedTime      25560 non-null  object\n",
      " 3   modifiedDate    25560 non-null  object\n",
      " 4   modifiedTime    25560 non-null  object\n",
      " 5   localState      19299 non-null  object\n",
      " 6   localRegion     19299 non-null  object\n",
      " 7   themeMain       7879 non-null   object\n",
      " 8   themeSub        3045 non-null   object\n",
      " 9   bodyCleaned     25560 non-null  object\n",
      " 10  titleCleaned    25560 non-null  object\n",
      " 11  captionCleaned  25560 non-null  object\n",
      "dtypes: object(12)\n",
      "memory usage: 2.5+ MB\n"
     ]
    }
   ],
   "source": [
    "news.info()"
   ]
  },
  {
   "cell_type": "code",
   "execution_count": 9,
   "metadata": {},
   "outputs": [],
   "source": [
    "def preprocess_mix_feats(df_news: pd.DataFrame, df_users: pd.DataFrame) -> pd.DataFrame:\n",
    "    \"\"\"\n",
    "    Pré-processa e combina os dataframes de notícias e de usuários, criando features temporais,\n",
    "    flags baseadas na quantidade de notícias consumidas por usuário e proporções relativas em \n",
    "    relação ao total de notícias consumidas.\n",
    "    \n",
    "    Parâmetros:\n",
    "    -----------\n",
    "    df_news : pd.DataFrame\n",
    "        DataFrame contendo os dados das notícias, com colunas como 'issuedDate', 'issuedTime', \n",
    "        'localState', 'localRegion', 'themeMain' e 'themeSub', entre outras.\n",
    "        \n",
    "    df_users : pd.DataFrame\n",
    "        DataFrame contendo o histórico de interação dos usuários, com colunas como 'timestampHistoryDate',\n",
    "        'timestampHistoryTime', 'userId' e outras informações do comportamento do usuário.\n",
    "        \n",
    "    Retorna:\n",
    "    --------\n",
    "    pd.DataFrame\n",
    "        DataFrame resultante do merge entre os dados dos usuários e das notícias, enriquecido com:\n",
    "          - Diferenças temporais entre a publicação da notícia e o consumo.\n",
    "          - Flags temporais (mesmo dia, mesmo dia da semana).\n",
    "          - Contagens de notícias consumidas por usuário para as categorias: localState, localRegion, \n",
    "            themeMain e themeSub.\n",
    "          - Proporções relativas dessas contagens em relação ao total de notícias consumidas pelo usuário.\n",
    "    \"\"\"\n",
    "    MIX_FEATS_COLS = [\n",
    "        \"userId\",\n",
    "        \"pageId\",\n",
    "        \"issuedDate\",\n",
    "        \"issuedTime\",\n",
    "        \"issuedDatetime\",\n",
    "        \"timestampHistoryDate\",\n",
    "        \"timestampHistoryTime\",\n",
    "        \"timestampHistoryDatetime\",\n",
    "        \"localState\",\n",
    "        \"localRegion\",\n",
    "        \"themeMain\",\n",
    "        \"themeSub\",\n",
    "    ]\n",
    "    \n",
    "    # Conversão das datas para datetime\n",
    "    df_news['issuedDate'] = pd.to_datetime(df_news['issuedDate'], format='%Y-%m-%d')\n",
    "    df_users['timestampHistoryDate'] = pd.to_datetime(df_users['timestampHistoryDate'], format='%Y-%m-%d')\n",
    "\n",
    "    # Garantindo que os horários estão no formato correto\n",
    "    df_news['issuedTime'] = pd.to_datetime(df_news['issuedTime'], format='%H:%M:%S', errors='coerce').dt.time\n",
    "    df_users['timestampHistoryTime'] = pd.to_datetime(df_users['timestampHistoryTime'], format='%H:%M:%S', errors='coerce').dt.time\n",
    "    \n",
    "    # Conversão dos horários para timedelta e soma com a data para obter timestamp completo\n",
    "    df_news['issuedDatetime'] = df_news['issuedDate'] + df_news['issuedTime'].apply(\n",
    "        lambda t: pd.Timedelta(hours=t.hour, minutes=t.minute, seconds=t.second) if pd.notnull(t) else pd.Timedelta(0)\n",
    "    )\n",
    "    df_users['timestampHistoryDatetime'] = df_users['timestampHistoryDate'] + df_users['timestampHistoryTime'].apply(\n",
    "        lambda t: pd.Timedelta(hours=t.hour, minutes=t.minute, seconds=t.second) if pd.notnull(t) else pd.Timedelta(0)\n",
    "    )\n",
    "    \n",
    "    # Merge dos dataframes a partir da coluna 'pageId'\n",
    "    df_mix = pd.merge(df_users, df_news, on='pageId', how='inner')\n",
    "    df_mix = df_mix[MIX_FEATS_COLS]\n",
    "    \n",
    "    # Cálculo do gap temporal entre a data/hora de publicação e a data/hora de consumo\n",
    "    timeGap = df_mix['timestampHistoryDatetime'] - df_mix['issuedDatetime']\n",
    "    df_mix['timeGapDays'] = timeGap.dt.days\n",
    "    df_mix['timeGapHours'] = timeGap / pd.Timedelta(hours=1)\n",
    "    df_mix['timeGapMinutes'] = timeGap / pd.Timedelta(minutes=1)\n",
    "    \n",
    "    # Criação de flags baseadas em datas\n",
    "    df_mix['isSameDay'] = df_mix['timestampHistoryDate'].dt.date == df_mix['issuedDate'].dt.date\n",
    "    df_mix['newsWeekday'] = df_mix['issuedDate'].dt.weekday\n",
    "    df_mix['userWeekday'] = df_mix['timestampHistoryDate'].dt.weekday\n",
    "    df_mix['isSameWeekday'] = df_mix['newsWeekday'] == df_mix['userWeekday']\n",
    "    \n",
    "    # Agregação da contagem de notícias consumidas por cada usuário para as categorias desejadas\n",
    "    df_mix['countLocalStateUser'] = df_mix.groupby('userId')['localState'].transform(lambda x: x.notnull().sum())\n",
    "    df_mix['countLocalRegionUser'] = df_mix.groupby('userId')['localRegion'].transform(lambda x: x.notnull().sum())\n",
    "    df_mix['countThemeMainUser'] = df_mix.groupby('userId')['themeMain'].transform(lambda x: x.notnull().sum())\n",
    "    df_mix['countThemeSubUser'] = df_mix.groupby('userId')['themeSub'].transform(lambda x: x.notnull().sum())\n",
    "    \n",
    "    # Contagem total de notícias consumidas por cada usuário\n",
    "    df_mix['totalUserNews'] = df_mix.groupby('userId')['pageId'].transform('count')\n",
    "    \n",
    "    # Cálculo das proporções relativas para cada categoria\n",
    "    df_mix['relLocalState'] = df_mix['countLocalStateUser'] / df_mix['totalUserNews']\n",
    "    df_mix['relLocalRegion'] = df_mix['countLocalRegionUser'] / df_mix['totalUserNews']\n",
    "    df_mix['relThemeMain'] = df_mix['countThemeMainUser'] / df_mix['totalUserNews']\n",
    "    df_mix['relThemeSub'] = df_mix['countThemeSubUser'] / df_mix['totalUserNews']\n",
    "    \n",
    "    return df_mix\n",
    "\n",
    "df_mix = preprocess_mix_feats(news, users)"
   ]
  },
  {
   "cell_type": "code",
   "execution_count": 10,
   "metadata": {},
   "outputs": [
    {
     "data": {
      "text/plain": [
       "relLocalState\n",
       "1.000000    13741\n",
       "0.500000     6492\n",
       "0.000000     5242\n",
       "0.666667     4587\n",
       "0.750000     2968\n",
       "            ...  \n",
       "0.350000       20\n",
       "0.263158       19\n",
       "0.294118       17\n",
       "0.062500       16\n",
       "0.133333       15\n",
       "Name: count, Length: 329, dtype: int64"
      ]
     },
     "execution_count": 10,
     "metadata": {},
     "output_type": "execute_result"
    }
   ],
   "source": [
    "df_mix[\"relLocalState\"].value_counts()"
   ]
  }
 ],
 "metadata": {
  "kernelspec": {
   "display_name": ".venv",
   "language": "python",
   "name": "python3"
  },
  "language_info": {
   "codemirror_mode": {
    "name": "ipython",
    "version": 3
   },
   "file_extension": ".py",
   "mimetype": "text/x-python",
   "name": "python",
   "nbconvert_exporter": "python",
   "pygments_lexer": "ipython3",
   "version": "3.9.21"
  }
 },
 "nbformat": 4,
 "nbformat_minor": 2
}
