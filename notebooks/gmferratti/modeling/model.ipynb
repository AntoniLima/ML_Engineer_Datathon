{
 "cells": [
  {
   "cell_type": "code",
   "execution_count": 1,
   "metadata": {},
   "outputs": [],
   "source": [
    "import pandas as pd\n",
    "import numpy as np\n",
    "import os\n",
    "import pickle\n",
    "from recomendation_model.base_model import LightGBMRanker\n",
    "\n",
    "os.chdir(\"c://Users//gufer//OneDrive//Documentos//FIAP//Fase_05//ML_Engineer_Datathon/\")\n",
    "# Carrega os dados de treino a partir dos arquivos Parquet\n",
    "X_train = pd.read_parquet(\"data/train/X_train.parquet\")\n",
    "y_train = pd.read_parquet(\"data/train/y_train.parquet\")\n",
    "X_train_full = pd.read_parquet(\"data/train/X_train_full.parquet\")\n",
    "group_train = pd.read_parquet(\"data/train/group_train.parquet\")\n",
    "# Note que para o parâmetro 'group' do LightGBM, passamos os valores da coluna 'groupCount'\n",
    "model = LightGBMRanker()\n",
    "model.train(X_train.values, y_train.values.ravel(), group_train[\"groupCount\"].values)\n",
    "\n",
    "# Salve o modelo em um arquivo pickle\n",
    "import pickle\n",
    "with open(\"lightgbm_ranker.pkl\", \"wb\") as f:\n",
    "    pickle.dump(model, f)\n",
    "\n",
    "print(\"Modelo treinado e salvo em 'lightgbm_ranker.pkl'\")\n",
    "with open(\"lightgbm_ranker.pkl\", \"rb\") as f:\n",
    "    model = pickle.load(f)\n",
    "\n",
    "print(\"Modelo carregado com sucesso!\")"
   ]
  },
  {
   "cell_type": "code",
   "execution_count": 9,
   "metadata": {},
   "outputs": [
    {
     "data": {
      "text/plain": [
       "<recomendation_model.base_model.LightGBMRanker at 0x1ff37da2eb0>"
      ]
     },
     "execution_count": 9,
     "metadata": {},
     "output_type": "execute_result"
    }
   ],
   "source": [
    "model"
   ]
  }
 ],
 "metadata": {
  "kernelspec": {
   "display_name": ".venv",
   "language": "python",
   "name": "python3"
  },
  "language_info": {
   "codemirror_mode": {
    "name": "ipython",
    "version": 3
   },
   "file_extension": ".py",
   "mimetype": "text/x-python",
   "name": "python",
   "nbconvert_exporter": "python",
   "pygments_lexer": "ipython3",
   "version": "3.9.21"
  }
 },
 "nbformat": 4,
 "nbformat_minor": 2
}
