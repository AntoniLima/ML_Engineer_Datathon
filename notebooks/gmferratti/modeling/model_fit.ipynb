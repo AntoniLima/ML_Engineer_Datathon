{
 "cells": [
  {
   "cell_type": "code",
   "execution_count": 14,
   "metadata": {},
   "outputs": [],
   "source": [
    "# IMPORTS GLOBAIS\n",
    "import pandas as pd\n",
    "import numpy as np\n",
    "import os\n",
    "import pickle\n",
    "import mlflow.pyfunc"
   ]
  },
  {
   "cell_type": "code",
   "execution_count": 15,
   "metadata": {},
   "outputs": [
    {
     "data": {
      "text/plain": [
       "'c:\\\\Users\\\\gufer\\\\OneDrive\\\\Documentos\\\\FIAP\\\\Fase_05\\\\ML_Engineer_Datathon'"
      ]
     },
     "execution_count": 15,
     "metadata": {},
     "output_type": "execute_result"
    }
   ],
   "source": [
    "# MUDANDO DIRETÓRIO\n",
    "os.chdir(\"c://Users//gufer//OneDrive//Documentos//FIAP//Fase_05//ML_Engineer_Datathon\")\n",
    "os.getcwd()"
   ]
  },
  {
   "cell_type": "code",
   "execution_count": 16,
   "metadata": {},
   "outputs": [],
   "source": [
    "# IMPORTS LOCAIS\n",
    "from src.recommendation_model.lgbm_ranker import LightGBMRanker"
   ]
  },
  {
   "cell_type": "code",
   "execution_count": 17,
   "metadata": {},
   "outputs": [],
   "source": [
    "# LOADS\n",
    "X_train = pd.read_parquet(\"data/train/X_train.parquet\")\n",
    "y_train = pd.read_parquet(\"data/train/y_train.parquet\")\n",
    "X_train_full = pd.read_parquet(\"data/train/X_train_full.parquet\")\n",
    "group_train = pd.read_parquet(\"data/train/group_train.parquet\")"
   ]
  },
  {
   "cell_type": "code",
   "execution_count": 18,
   "metadata": {},
   "outputs": [
    {
     "data": {
      "text/plain": [
       "Index(['userId', 'pageId', 'userType', 'isWeekend', 'dayPeriod',\n",
       "       'issuedDatetime', 'timestampHistoryDatetime', 'coldStart', 'localState',\n",
       "       'localRegion', 'themeMain', 'themeSub', 'relLocalState',\n",
       "       'relLocalRegion', 'relThemeMain', 'relThemeSub', 'userTypeFreq',\n",
       "       'dayPeriodFreq', 'localStateFreq', 'localRegionFreq', 'themeMainFreq',\n",
       "       'themeSubFreq'],\n",
       "      dtype='object')"
      ]
     },
     "execution_count": 18,
     "metadata": {},
     "output_type": "execute_result"
    }
   ],
   "source": [
    "X_train_full.columns"
   ]
  },
  {
   "cell_type": "code",
   "execution_count": 19,
   "metadata": {},
   "outputs": [],
   "source": [
    "# INSTANCIANDO E TREINANDO O MODELO\n",
    "model = LightGBMRanker()\n",
    "model.train(X_train.values, y_train.values.ravel(), group_train[\"groupCount\"].values)"
   ]
  },
  {
   "cell_type": "code",
   "execution_count": 20,
   "metadata": {},
   "outputs": [
    {
     "data": {
      "text/plain": [
       "(Index(['userTypeFreq', 'isWeekend', 'dayPeriodFreq'], dtype='object'),\n",
       " Index(['relLocalState', 'relLocalRegion', 'relThemeMain', 'relThemeSub',\n",
       "        'localStateFreq', 'localRegionFreq', 'themeMainFreq', 'themeSubFreq'],\n",
       "       dtype='object'))"
      ]
     },
     "execution_count": 20,
     "metadata": {},
     "output_type": "execute_result"
    }
   ],
   "source": [
    "# COLUNAS\n",
    "CLIENT_FEATURES = [\n",
    "    'userTypeFreq', \n",
    "    'isWeekend', \n",
    "    'dayPeriodFreq',\n",
    "]\n",
    "NEWS_FEATURES = [\n",
    "    'relLocalState', \n",
    "    'relLocalRegion',\n",
    "    'relThemeMain', \n",
    "    'relThemeSub',  \n",
    "    'localStateFreq', \n",
    "    'localRegionFreq', \n",
    "    'themeMainFreq',\n",
    "    'themeSubFreq',\n",
    "]\n",
    "\n",
    "client_features = X_train[CLIENT_FEATURES]\n",
    "news_features = X_train[NEWS_FEATURES] \n",
    "\n",
    "client_features.columns, news_features.columns"
   ]
  },
  {
   "cell_type": "code",
   "execution_count": 21,
   "metadata": {},
   "outputs": [],
   "source": [
    "# MONTA O DICIONÁRIO\n",
    "input_data = {\n",
    "    \"client_features\": client_features,\n",
    "    \"news_features\": news_features\n",
    "}"
   ]
  },
  {
   "cell_type": "code",
   "execution_count": 22,
   "metadata": {},
   "outputs": [
    {
     "name": "stdout",
     "output_type": "stream",
     "text": [
      "Predições: [-1.88824921 -2.49841121 -2.4491163  ... -1.29674705 -1.9811297\n",
      " -1.82170664]\n"
     ]
    }
   ],
   "source": [
    "# MODELO LOCAL\n",
    "predicoes = model.predict(input_data)\n",
    "print(\"Predições:\", predicoes)\n"
   ]
  },
  {
   "cell_type": "code",
   "execution_count": 23,
   "metadata": {},
   "outputs": [],
   "source": [
    "# FUNÇÃO PARA COMPATIBILIZAR PREDICT\n",
    "def flatten_input(input_data: dict) -> pd.DataFrame:\n",
    "    \"\"\"\n",
    "    Recebe um dicionário com as chaves 'client_features' e 'news_features',\n",
    "    onde cada valor é um DataFrame, e retorna um único DataFrame com as colunas\n",
    "    na ordem esperada pela assinatura do modelo.\n",
    "    \"\"\"\n",
    "    client_df = input_data.get(\"client_features\")\n",
    "    news_df = input_data.get(\"news_features\")\n",
    "    \n",
    "    if client_df is None or news_df is None:\n",
    "        raise ValueError(\"O input deve conter 'client_features' e 'news_features'.\")\n",
    "    \n",
    "    # Verifica se já são DataFrames; se não, converte\n",
    "    if not isinstance(client_df, pd.DataFrame):\n",
    "        client_df = pd.DataFrame(client_df)\n",
    "    if not isinstance(news_df, pd.DataFrame):\n",
    "        news_df = pd.DataFrame(news_df)\n",
    "    \n",
    "    # Concatena os DataFrames horizontalmente (colunas lado a lado)\n",
    "    df = pd.concat([client_df, news_df], axis=1)\n",
    "    \n",
    "    # Define a ordem das colunas conforme a assinatura do modelo\n",
    "    expected_columns = [\n",
    "        'isWeekend', \n",
    "        'relLocalState', 'relLocalRegion', 'relThemeMain', 'relThemeSub', \n",
    "        'userTypeFreq', 'dayPeriodFreq', \n",
    "        'localStateFreq', 'localRegionFreq', 'themeMainFreq', 'themeSubFreq'\n",
    "    ]\n",
    "    \n",
    "    # Reordena as colunas; se alguma coluna estiver faltando, será gerado um KeyError\n",
    "    df = df[expected_columns]\n",
    "    \n",
    "    return df"
   ]
  },
  {
   "cell_type": "code",
   "execution_count": 24,
   "metadata": {},
   "outputs": [
    {
     "name": "stderr",
     "output_type": "stream",
     "text": [
      "Downloading artifacts: 100%|██████████| 7/7 [00:02<00:00,  3.22it/s]\n"
     ]
    }
   ],
   "source": [
    "# MODELO MLFLOW\n",
    "\n",
    "# Setando o host\n",
    "mlflow.set_tracking_uri(\"http://localhost:5001\")\n",
    "\n",
    "# Carrega o modelo a partir do MLflow\n",
    "model = mlflow.pyfunc.load_model(\"models:/news-recommender-dev@champion\")\n",
    "\n",
    "# \"Achata\" o input para obter um único DataFrame\n",
    "flattened_input = flatten_input(input_data)\n",
    "\n",
    "# Realiza a predição utilizando o método predict do modelo carregado\n",
    "# predicoes = model.predict(flattened_input)\n",
    "# print(\"Predições:\", predicoes)\n"
   ]
  },
  {
   "cell_type": "code",
   "execution_count": 29,
   "metadata": {},
   "outputs": [
    {
     "name": "stdout",
     "output_type": "stream",
     "text": [
      "<class 'pandas.core.frame.DataFrame'>\n",
      "Index: 80208 entries, 0 to 255601\n",
      "Data columns (total 11 columns):\n",
      " #   Column        Non-Null Count  Dtype \n",
      "---  ------        --------------  ----- \n",
      " 0   pageId        80208 non-null  object\n",
      " 1   url           80208 non-null  object\n",
      " 2   title         80208 non-null  object\n",
      " 3   issuedDate    80208 non-null  object\n",
      " 4   issuedTime    80208 non-null  object\n",
      " 5   modifiedDate  80208 non-null  object\n",
      " 6   modifiedTime  80208 non-null  object\n",
      " 7   localState    59697 non-null  object\n",
      " 8   localRegion   59697 non-null  object\n",
      " 9   themeMain     25358 non-null  object\n",
      " 10  themeSub      9100 non-null   object\n",
      "dtypes: object(11)\n",
      "memory usage: 7.3+ MB\n"
     ]
    }
   ],
   "source": [
    "news_feats = pd.read_parquet(\"data/features/news_feats.parquet\")\n",
    "news_feats.info()"
   ]
  },
  {
   "cell_type": "code",
   "execution_count": null,
   "metadata": {},
   "outputs": [
    {
     "data": {
      "text/html": [
       "<div>\n",
       "<style scoped>\n",
       "    .dataframe tbody tr th:only-of-type {\n",
       "        vertical-align: middle;\n",
       "    }\n",
       "\n",
       "    .dataframe tbody tr th {\n",
       "        vertical-align: top;\n",
       "    }\n",
       "\n",
       "    .dataframe thead th {\n",
       "        text-align: right;\n",
       "    }\n",
       "</style>\n",
       "<table border=\"1\" class=\"dataframe\">\n",
       "  <thead>\n",
       "    <tr style=\"text-align: right;\">\n",
       "      <th></th>\n",
       "      <th>pageId</th>\n",
       "      <th>url</th>\n",
       "      <th>title</th>\n",
       "    </tr>\n",
       "  </thead>\n",
       "  <tbody>\n",
       "    <tr>\n",
       "      <th>0</th>\n",
       "      <td>13db0ab1-eea2-4603-84c4-f40a876c7400</td>\n",
       "      <td>http://g1.globo.com/am/amazonas/noticia/2022/0...</td>\n",
       "      <td>Caso Bruno e Dom: 3º suspeito tem prisão tempo...</td>\n",
       "    </tr>\n",
       "    <tr>\n",
       "      <th>1</th>\n",
       "      <td>92907b73-5cd3-4184-8d8c-e206aed2bf1c</td>\n",
       "      <td>http://g1.globo.com/pa/santarem-regiao/noticia...</td>\n",
       "      <td>Linguajar dos santarenos é diferenciado e chei...</td>\n",
       "    </tr>\n",
       "    <tr>\n",
       "      <th>2</th>\n",
       "      <td>61e07f64-cddf-46f2-b50c-ea0a39c22050</td>\n",
       "      <td>http://g1.globo.com/mundo/noticia/2022/07/08/e...</td>\n",
       "      <td>Ex-premiê Shinzo Abe morre após ser baleado no...</td>\n",
       "    </tr>\n",
       "    <tr>\n",
       "      <th>5</th>\n",
       "      <td>a9fd6d34-6f40-4c90-849b-2ad36f04fd6f</td>\n",
       "      <td>http://g1.globo.com/politica/noticia/2021/08/2...</td>\n",
       "      <td>O que é o marco temporal sobre terras indígena...</td>\n",
       "    </tr>\n",
       "    <tr>\n",
       "      <th>7</th>\n",
       "      <td>682da2fa-6f5b-4017-be35-7968990f62b9</td>\n",
       "      <td>http://g1.globo.com/pop-arte/musica/noticia/20...</td>\n",
       "      <td>Como Cornershop criou hit 'complicado' com mis...</td>\n",
       "    </tr>\n",
       "    <tr>\n",
       "      <th>...</th>\n",
       "      <td>...</td>\n",
       "      <td>...</td>\n",
       "      <td>...</td>\n",
       "    </tr>\n",
       "    <tr>\n",
       "      <th>255594</th>\n",
       "      <td>fbf456df-ce43-4fed-80ff-4a07c301c038</td>\n",
       "      <td>http://g1.globo.com/bemestar/coronavirus/notic...</td>\n",
       "      <td>Segunda onda de Covid? As cidades e regiões do...</td>\n",
       "    </tr>\n",
       "    <tr>\n",
       "      <th>255596</th>\n",
       "      <td>9999021c-bf95-46dd-941e-ffeb9e7e63aa</td>\n",
       "      <td>http://g1.globo.com/tecnologia/noticia/2022/06...</td>\n",
       "      <td>Mercado de tecnologia oferece vagas para quem ...</td>\n",
       "    </tr>\n",
       "    <tr>\n",
       "      <th>255599</th>\n",
       "      <td>d21c1bfc-6a90-4e2d-8c4c-ff1daee1b4f2</td>\n",
       "      <td>http://g1.globo.com/especial-publicitario/vae/...</td>\n",
       "      <td>Em 10 passos, saiba o que você precisa fazer p...</td>\n",
       "    </tr>\n",
       "    <tr>\n",
       "      <th>255600</th>\n",
       "      <td>abc5ecd9-81e1-40cf-b706-0b5fa7bea3be</td>\n",
       "      <td>http://g1.globo.com/sp/campinas-regiao/terra-d...</td>\n",
       "      <td>Ratão-do-banhado é roedor adaptado para viver ...</td>\n",
       "    </tr>\n",
       "    <tr>\n",
       "      <th>255601</th>\n",
       "      <td>a7cf134e-0bb0-4363-9224-4d68cf8c7a53</td>\n",
       "      <td>http://g1.globo.com/mg/zona-da-mata/noticia/20...</td>\n",
       "      <td>Começa nesta quarta-feira em Juiz de Fora o XV...</td>\n",
       "    </tr>\n",
       "  </tbody>\n",
       "</table>\n",
       "<p>80208 rows × 3 columns</p>\n",
       "</div>"
      ],
      "text/plain": [
       "                                      pageId  \\\n",
       "0       13db0ab1-eea2-4603-84c4-f40a876c7400   \n",
       "1       92907b73-5cd3-4184-8d8c-e206aed2bf1c   \n",
       "2       61e07f64-cddf-46f2-b50c-ea0a39c22050   \n",
       "5       a9fd6d34-6f40-4c90-849b-2ad36f04fd6f   \n",
       "7       682da2fa-6f5b-4017-be35-7968990f62b9   \n",
       "...                                      ...   \n",
       "255594  fbf456df-ce43-4fed-80ff-4a07c301c038   \n",
       "255596  9999021c-bf95-46dd-941e-ffeb9e7e63aa   \n",
       "255599  d21c1bfc-6a90-4e2d-8c4c-ff1daee1b4f2   \n",
       "255600  abc5ecd9-81e1-40cf-b706-0b5fa7bea3be   \n",
       "255601  a7cf134e-0bb0-4363-9224-4d68cf8c7a53   \n",
       "\n",
       "                                                      url  \\\n",
       "0       http://g1.globo.com/am/amazonas/noticia/2022/0...   \n",
       "1       http://g1.globo.com/pa/santarem-regiao/noticia...   \n",
       "2       http://g1.globo.com/mundo/noticia/2022/07/08/e...   \n",
       "5       http://g1.globo.com/politica/noticia/2021/08/2...   \n",
       "7       http://g1.globo.com/pop-arte/musica/noticia/20...   \n",
       "...                                                   ...   \n",
       "255594  http://g1.globo.com/bemestar/coronavirus/notic...   \n",
       "255596  http://g1.globo.com/tecnologia/noticia/2022/06...   \n",
       "255599  http://g1.globo.com/especial-publicitario/vae/...   \n",
       "255600  http://g1.globo.com/sp/campinas-regiao/terra-d...   \n",
       "255601  http://g1.globo.com/mg/zona-da-mata/noticia/20...   \n",
       "\n",
       "                                                    title  \n",
       "0       Caso Bruno e Dom: 3º suspeito tem prisão tempo...  \n",
       "1       Linguajar dos santarenos é diferenciado e chei...  \n",
       "2       Ex-premiê Shinzo Abe morre após ser baleado no...  \n",
       "5       O que é o marco temporal sobre terras indígena...  \n",
       "7       Como Cornershop criou hit 'complicado' com mis...  \n",
       "...                                                   ...  \n",
       "255594  Segunda onda de Covid? As cidades e regiões do...  \n",
       "255596  Mercado de tecnologia oferece vagas para quem ...  \n",
       "255599  Em 10 passos, saiba o que você precisa fazer p...  \n",
       "255600  Ratão-do-banhado é roedor adaptado para viver ...  \n",
       "255601  Começa nesta quarta-feira em Juiz de Fora o XV...  \n",
       "\n",
       "[80208 rows x 3 columns]"
      ]
     },
     "execution_count": 13,
     "metadata": {},
     "output_type": "execute_result"
    }
   ],
   "source": [
    "news_metadata = pd.read_parquet(\"data/features/news_feats.parquet\")[[\"pageId\",\"url\",\"title\"]]\n",
    "news_metadata"
   ]
  }
 ],
 "metadata": {
  "kernelspec": {
   "display_name": ".venv",
   "language": "python",
   "name": "python3"
  },
  "language_info": {
   "codemirror_mode": {
    "name": "ipython",
    "version": 3
   },
   "file_extension": ".py",
   "mimetype": "text/x-python",
   "name": "python",
   "nbconvert_exporter": "python",
   "pygments_lexer": "ipython3",
   "version": "3.9.21"
  }
 },
 "nbformat": 4,
 "nbformat_minor": 2
}
