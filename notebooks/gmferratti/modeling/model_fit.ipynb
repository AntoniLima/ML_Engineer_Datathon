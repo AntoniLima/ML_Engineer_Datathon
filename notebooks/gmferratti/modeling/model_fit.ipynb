{
 "cells": [
  {
   "cell_type": "code",
   "execution_count": 3,
   "metadata": {},
   "outputs": [],
   "source": [
    "# IMPORTS GLOBAIS\n",
    "import pandas as pd\n",
    "import numpy as np\n",
    "import os\n",
    "import pickle"
   ]
  },
  {
   "cell_type": "code",
   "execution_count": 13,
   "metadata": {},
   "outputs": [
    {
     "data": {
      "text/plain": [
       "'c:\\\\Users\\\\gufer\\\\OneDrive\\\\Documentos\\\\FIAP\\\\Fase_05\\\\ML_Engineer_Datathon'"
      ]
     },
     "execution_count": 13,
     "metadata": {},
     "output_type": "execute_result"
    }
   ],
   "source": [
    "os.chdir(\"c://Users//gufer//OneDrive//Documentos//FIAP//Fase_05//ML_Engineer_Datathon\")\n",
    "os.getcwd()"
   ]
  },
  {
   "cell_type": "code",
   "execution_count": 14,
   "metadata": {},
   "outputs": [],
   "source": [
    "# IMPORTS LOCAIS\n",
    "from src.recommendation_model.lgbm_ranker import LightGBMRanker"
   ]
  },
  {
   "cell_type": "code",
   "execution_count": 15,
   "metadata": {},
   "outputs": [],
   "source": [
    "# LOADS\n",
    "\n",
    "# Carrega os dados de treino a partir dos arquivos Parquet\n",
    "X_train = pd.read_parquet(\"data/train/X_train.parquet\")\n",
    "y_train = pd.read_parquet(\"data/train/y_train.parquet\")\n",
    "X_train_full = pd.read_parquet(\"data/train/X_train_full.parquet\")\n",
    "group_train = pd.read_parquet(\"data/train/group_train.parquet\")"
   ]
  },
  {
   "cell_type": "code",
   "execution_count": 17,
   "metadata": {},
   "outputs": [],
   "source": [
    "# INSTANCIANDO E TREINANDO O MODELO\n",
    "model = LightGBMRanker()\n",
    "model.train(X_train.values, y_train.values.ravel(), group_train[\"groupCount\"].values)"
   ]
  },
  {
   "cell_type": "code",
   "execution_count": 21,
   "metadata": {},
   "outputs": [
    {
     "data": {
      "text/plain": [
       "(Index(['userTypeFreq', 'isWeekend', 'dayPeriodFreq'], dtype='object'),\n",
       " Index(['relLocalState', 'relLocalRegion', 'relThemeMain', 'relThemeSub',\n",
       "        'localStateFreq', 'localRegionFreq', 'themeMainFreq', 'themeSubFreq'],\n",
       "       dtype='object'))"
      ]
     },
     "execution_count": 21,
     "metadata": {},
     "output_type": "execute_result"
    }
   ],
   "source": [
    "# COLUNAS\n",
    "CLIENT_FEATURES = [\n",
    "    'userTypeFreq', \n",
    "    'isWeekend', \n",
    "    'dayPeriodFreq',\n",
    "]\n",
    "NEWS_FEATURES = [\n",
    "    'relLocalState', \n",
    "    'relLocalRegion',\n",
    "    'relThemeMain', \n",
    "    'relThemeSub',  \n",
    "    'localStateFreq', \n",
    "    'localRegionFreq', \n",
    "    'themeMainFreq',\n",
    "    'themeSubFreq',\n",
    "]\n",
    "\n",
    "client_features = X_train[CLIENT_FEATURES]\n",
    "news_features = X_train[NEWS_FEATURES] \n",
    "\n",
    "client_features.columns, news_features.columns"
   ]
  },
  {
   "cell_type": "code",
   "execution_count": null,
   "metadata": {},
   "outputs": [],
   "source": []
  }
 ],
 "metadata": {
  "kernelspec": {
   "display_name": ".venv",
   "language": "python",
   "name": "python3"
  },
  "language_info": {
   "codemirror_mode": {
    "name": "ipython",
    "version": 3
   },
   "file_extension": ".py",
   "mimetype": "text/x-python",
   "name": "python",
   "nbconvert_exporter": "python",
   "pygments_lexer": "ipython3",
   "version": "3.9.21"
  }
 },
 "nbformat": 4,
 "nbformat_minor": 2
}
