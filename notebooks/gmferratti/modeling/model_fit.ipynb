{
 "cells": [
  {
   "cell_type": "code",
   "execution_count": 1,
   "metadata": {},
   "outputs": [
    {
     "name": "stdout",
     "output_type": "stream",
     "text": [
      "Modelo treinado e salvo em 'lightgbm_ranker.pkl'\n",
      "Modelo carregado com sucesso!\n"
     ]
    }
   ],
   "source": [
    "import pandas as pd\n",
    "import numpy as np\n",
    "import os\n",
    "import pickle\n",
    "from recomendation_model.base_model import LightGBMRanker\n",
    "\n",
    "os.chdir(\"c://Users//gufer//OneDrive//Documentos//FIAP//Fase_05//ML_Engineer_Datathon/\")\n",
    "# Carrega os dados de treino a partir dos arquivos Parquet\n",
    "X_train = pd.read_parquet(\"data/train/X_train.parquet\")\n",
    "y_train = pd.read_parquet(\"data/train/y_train.parquet\")\n",
    "X_train_full = pd.read_parquet(\"data/train/X_train_full.parquet\")\n",
    "group_train = pd.read_parquet(\"data/train/group_train.parquet\")\n",
    "# Note que para o parâmetro 'group' do LightGBM, passamos os valores da coluna 'groupCount'\n",
    "model = LightGBMRanker()\n",
    "model.train(X_train.values, y_train.values.ravel(), group_train[\"groupCount\"].values)\n",
    "\n",
    "# Salve o modelo em um arquivo pickle\n",
    "import pickle\n",
    "with open(\"lightgbm_ranker.pkl\", \"wb\") as f:\n",
    "    pickle.dump(model, f)\n",
    "\n",
    "print(\"Modelo treinado e salvo em 'lightgbm_ranker.pkl'\")\n",
    "with open(\"lightgbm_ranker.pkl\", \"rb\") as f:\n",
    "    model = pickle.load(f)\n",
    "\n",
    "print(\"Modelo carregado com sucesso!\")"
   ]
  },
  {
   "cell_type": "code",
   "execution_count": null,
   "metadata": {},
   "outputs": [
    {
     "data": {
      "text/html": [
       "<div>\n",
       "<style scoped>\n",
       "    .dataframe tbody tr th:only-of-type {\n",
       "        vertical-align: middle;\n",
       "    }\n",
       "\n",
       "    .dataframe tbody tr th {\n",
       "        vertical-align: top;\n",
       "    }\n",
       "\n",
       "    .dataframe thead th {\n",
       "        text-align: right;\n",
       "    }\n",
       "</style>\n",
       "<table border=\"1\" class=\"dataframe\">\n",
       "  <thead>\n",
       "    <tr style=\"text-align: right;\">\n",
       "      <th></th>\n",
       "      <th>userId</th>\n",
       "      <th>pageId</th>\n",
       "      <th>userType</th>\n",
       "      <th>isWeekend</th>\n",
       "      <th>dayPeriod</th>\n",
       "      <th>issuedDatetime</th>\n",
       "      <th>timestampHistoryDatetime</th>\n",
       "      <th>coldStart</th>\n",
       "      <th>localState</th>\n",
       "      <th>localRegion</th>\n",
       "      <th>...</th>\n",
       "      <th>relLocalState</th>\n",
       "      <th>relLocalRegion</th>\n",
       "      <th>relThemeMain</th>\n",
       "      <th>relThemeSub</th>\n",
       "      <th>userTypeFreq</th>\n",
       "      <th>dayPeriodFreq</th>\n",
       "      <th>localStateFreq</th>\n",
       "      <th>localRegionFreq</th>\n",
       "      <th>themeMainFreq</th>\n",
       "      <th>themeSubFreq</th>\n",
       "    </tr>\n",
       "  </thead>\n",
       "  <tbody>\n",
       "  </tbody>\n",
       "</table>\n",
       "<p>0 rows × 22 columns</p>\n",
       "</div>"
      ],
      "text/plain": [
       "Empty DataFrame\n",
       "Columns: [userId, pageId, userType, isWeekend, dayPeriod, issuedDatetime, timestampHistoryDatetime, coldStart, localState, localRegion, themeMain, themeSub, relLocalState, relLocalRegion, relThemeMain, relThemeSub, userTypeFreq, dayPeriodFreq, localStateFreq, localRegionFreq, themeMainFreq, themeSubFreq]\n",
       "Index: []\n",
       "\n",
       "[0 rows x 22 columns]"
      ]
     },
     "execution_count": 8,
     "metadata": {},
     "output_type": "execute_result"
    }
   ],
   "source": []
  }
 ],
 "metadata": {
  "kernelspec": {
   "display_name": ".venv",
   "language": "python",
   "name": "python3"
  },
  "language_info": {
   "codemirror_mode": {
    "name": "ipython",
    "version": 3
   },
   "file_extension": ".py",
   "mimetype": "text/x-python",
   "name": "python",
   "nbconvert_exporter": "python",
   "pygments_lexer": "ipython3",
   "version": "3.9.21"
  }
 },
 "nbformat": 4,
 "nbformat_minor": 2
}
