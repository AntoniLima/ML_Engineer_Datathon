{
 "cells": [
  {
   "cell_type": "code",
   "execution_count": 1,
   "metadata": {},
   "outputs": [],
   "source": [
    "# IMPORTS GLOBAIS\n",
    "import pandas as pd\n",
    "import numpy as np\n",
    "import os\n",
    "import pickle\n",
    "import mlflow.pyfunc"
   ]
  },
  {
   "cell_type": "code",
   "execution_count": 2,
   "metadata": {},
   "outputs": [
    {
     "data": {
      "text/plain": [
       "'c:\\\\Users\\\\gufer\\\\OneDrive\\\\Documentos\\\\FIAP\\\\Fase_05\\\\ML_Engineer_Datathon'"
      ]
     },
     "execution_count": 2,
     "metadata": {},
     "output_type": "execute_result"
    }
   ],
   "source": [
    "# MUDANDO DIRETÓRIO\n",
    "os.chdir(\"c://Users//gufer//OneDrive//Documentos//FIAP//Fase_05//ML_Engineer_Datathon\")\n",
    "os.getcwd()"
   ]
  },
  {
   "cell_type": "code",
   "execution_count": 3,
   "metadata": {},
   "outputs": [],
   "source": [
    "# IMPORTS LOCAIS\n",
    "from src.recommendation_model.lgbm_ranker import LightGBMRanker"
   ]
  },
  {
   "cell_type": "code",
   "execution_count": 4,
   "metadata": {},
   "outputs": [],
   "source": [
    "# LOADS\n",
    "X_train = pd.read_parquet(\"data/train/X_train.parquet\")\n",
    "y_train = pd.read_parquet(\"data/train/y_train.parquet\")\n",
    "X_train_full = pd.read_parquet(\"data/train/X_train_full.parquet\")\n",
    "group_train = pd.read_parquet(\"data/train/group_train.parquet\")"
   ]
  },
  {
   "cell_type": "code",
   "execution_count": 5,
   "metadata": {},
   "outputs": [],
   "source": [
    "# INSTANCIANDO E TREINANDO O MODELO\n",
    "model = LightGBMRanker()\n",
    "model.train(X_train.values, y_train.values.ravel(), group_train[\"groupCount\"].values)"
   ]
  },
  {
   "cell_type": "code",
   "execution_count": 6,
   "metadata": {},
   "outputs": [
    {
     "data": {
      "text/plain": [
       "(Index(['userTypeFreq', 'isWeekend', 'dayPeriodFreq'], dtype='object'),\n",
       " Index(['relLocalState', 'relLocalRegion', 'relThemeMain', 'relThemeSub',\n",
       "        'localStateFreq', 'localRegionFreq', 'themeMainFreq', 'themeSubFreq'],\n",
       "       dtype='object'))"
      ]
     },
     "execution_count": 6,
     "metadata": {},
     "output_type": "execute_result"
    }
   ],
   "source": [
    "# COLUNAS\n",
    "CLIENT_FEATURES = [\n",
    "    'userTypeFreq', \n",
    "    'isWeekend', \n",
    "    'dayPeriodFreq',\n",
    "]\n",
    "NEWS_FEATURES = [\n",
    "    'relLocalState', \n",
    "    'relLocalRegion',\n",
    "    'relThemeMain', \n",
    "    'relThemeSub',  \n",
    "    'localStateFreq', \n",
    "    'localRegionFreq', \n",
    "    'themeMainFreq',\n",
    "    'themeSubFreq',\n",
    "]\n",
    "\n",
    "client_features = X_train[CLIENT_FEATURES]\n",
    "news_features = X_train[NEWS_FEATURES] \n",
    "\n",
    "client_features.columns, news_features.columns"
   ]
  },
  {
   "cell_type": "code",
   "execution_count": 7,
   "metadata": {},
   "outputs": [],
   "source": [
    "# MONTA O DICIONÁRIO\n",
    "input_data = {\n",
    "    \"client_features\": client_features,\n",
    "    \"news_features\": news_features\n",
    "}"
   ]
  },
  {
   "cell_type": "code",
   "execution_count": 8,
   "metadata": {},
   "outputs": [
    {
     "name": "stdout",
     "output_type": "stream",
     "text": [
      "Predições: [-1.88824921 -2.49841121 -2.4491163  ... -1.29674705 -1.9811297\n",
      " -1.82170664]\n"
     ]
    }
   ],
   "source": [
    "# MODELO LOCAL\n",
    "predicoes = model.predict(input_data)\n",
    "print(\"Predições:\", predicoes)\n"
   ]
  },
  {
   "cell_type": "code",
   "execution_count": 10,
   "metadata": {},
   "outputs": [],
   "source": [
    "# FUNÇÃO PARA COMPATIBILIZAR PREDICT\n",
    "def flatten_input(input_data: dict) -> pd.DataFrame:\n",
    "    \"\"\"\n",
    "    Recebe um dicionário com as chaves 'client_features' e 'news_features',\n",
    "    onde cada valor é um DataFrame, e retorna um único DataFrame com as colunas\n",
    "    na ordem esperada pela assinatura do modelo.\n",
    "    \"\"\"\n",
    "    client_df = input_data.get(\"client_features\")\n",
    "    news_df = input_data.get(\"news_features\")\n",
    "    \n",
    "    if client_df is None or news_df is None:\n",
    "        raise ValueError(\"O input deve conter 'client_features' e 'news_features'.\")\n",
    "    \n",
    "    # Verifica se já são DataFrames; se não, converte\n",
    "    if not isinstance(client_df, pd.DataFrame):\n",
    "        client_df = pd.DataFrame(client_df)\n",
    "    if not isinstance(news_df, pd.DataFrame):\n",
    "        news_df = pd.DataFrame(news_df)\n",
    "    \n",
    "    # Concatena os DataFrames horizontalmente (colunas lado a lado)\n",
    "    df = pd.concat([client_df, news_df], axis=1)\n",
    "    \n",
    "    # Define a ordem das colunas conforme a assinatura do modelo\n",
    "    expected_columns = [\n",
    "        'isWeekend', \n",
    "        'relLocalState', 'relLocalRegion', 'relThemeMain', 'relThemeSub', \n",
    "        'userTypeFreq', 'dayPeriodFreq', \n",
    "        'localStateFreq', 'localRegionFreq', 'themeMainFreq', 'themeSubFreq'\n",
    "    ]\n",
    "    \n",
    "    # Reordena as colunas; se alguma coluna estiver faltando, será gerado um KeyError\n",
    "    df = df[expected_columns]\n",
    "    \n",
    "    return df"
   ]
  },
  {
   "cell_type": "code",
   "execution_count": 12,
   "metadata": {},
   "outputs": [
    {
     "name": "stderr",
     "output_type": "stream",
     "text": [
      "Downloading artifacts: 100%|██████████| 7/7 [00:02<00:00,  3.30it/s]\n"
     ]
    },
    {
     "name": "stdout",
     "output_type": "stream",
     "text": [
      "Predições: [27.31918627 27.20634579 28.06742317 ... 40.27345643 34.30191294\n",
      " 35.22682051]\n"
     ]
    }
   ],
   "source": [
    "# MODELO MLFLOW\n",
    "\n",
    "# Setando o host\n",
    "mlflow.set_tracking_uri(\"http://localhost:5001\")\n",
    "\n",
    "# Carrega o modelo a partir do MLflow\n",
    "model = mlflow.pyfunc.load_model(\"models:/news-recommender-dev@champion\")\n",
    "\n",
    "# \"Achata\" o input para obter um único DataFrame\n",
    "flattened_input = flatten_input(input_data)\n",
    "\n",
    "# Realiza a predição utilizando o método predict do modelo carregado\n",
    "predicoes = model.predict(flattened_input)\n",
    "print(\"Predições:\", predicoes)\n",
    "\n",
    "#TODO: tomando erro porque modelo local e remoto devem estar diferentes. Promover modelo."
   ]
  }
 ],
 "metadata": {
  "kernelspec": {
   "display_name": ".venv",
   "language": "python",
   "name": "python3"
  },
  "language_info": {
   "codemirror_mode": {
    "name": "ipython",
    "version": 3
   },
   "file_extension": ".py",
   "mimetype": "text/x-python",
   "name": "python",
   "nbconvert_exporter": "python",
   "pygments_lexer": "ipython3",
   "version": "3.9.21"
  }
 },
 "nbformat": 4,
 "nbformat_minor": 2
}
