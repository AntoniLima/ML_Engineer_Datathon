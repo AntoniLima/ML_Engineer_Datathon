{
 "cells": [
  {
   "cell_type": "code",
   "execution_count": 1,
   "metadata": {},
   "outputs": [
    {
     "name": "stderr",
     "output_type": "stream",
     "text": [
      "2025-03-01 19:18:02,984 - src.config - INFO - config.py - Ambiente: dev\n",
      "2025-03-01 19:18:02,991 - config - INFO - config.py - Ambiente: dev\n"
     ]
    }
   ],
   "source": [
    "\n",
    "import os\n",
    "import sys\n",
    "import pandas as pd\n",
    "import mlflow\n",
    "\n",
    "# Adiciona o diretório src ao PYTHONPATH\n",
    "project_dir = os.path.abspath(os.path.join(os.getcwd(), '../../../'))\n",
    "if project_dir not in sys.path:\n",
    "    sys.path.append(project_dir)\n",
    "\n",
    "from src.config import (\n",
    "    get_config,\n",
    "    get_data_path,\n",
    "    configure_mlflow,\n",
    "    CONFIG,\n",
    "    logger,\n",
    "    USE_S3,\n",
    "    DATA_PATH,\n",
    "    SAMPLE_RATE,\n",
    "    COLD_START_THRESHOLD\n",
    ")\n",
    "from src.features.constants import USERS_COLS_TO_EXPLODE, USERS_DTYPES, NEWS_COLS_TO_DROP\n",
    "from storage.io import Storage\n",
    "from src.features.utils import concatenate_csv_files\n",
    "\n",
    "from src.data.data_loader import get_client_features, get_predicted_news\n",
    "from src.train.core import load_model_from_mlflow\n",
    "\n",
    "\n"
   ]
  },
  {
   "cell_type": "code",
   "execution_count": 2,
   "metadata": {},
   "outputs": [
    {
     "name": "stderr",
     "output_type": "stream",
     "text": [
      "2025-03-01 19:18:03,118 - config - INFO - factory.py - Inicializando armazenamento local\n",
      "2025-03-01 19:18:03,292 - src.config - INFO - core.py - Carregando modelo models:/news-recommender-dev@champion do MLflow\n",
      "/opt/homebrew/Caskroom/miniforge/base/envs/datathon/lib/python3.9/site-packages/tqdm/auto.py:21: TqdmWarning: IProgress not found. Please update jupyter and ipywidgets. See https://ipywidgets.readthedocs.io/en/stable/user_install.html\n",
      "  from .autonotebook import tqdm as notebook_tqdm\n",
      "Downloading artifacts: 100%|██████████| 7/7 [00:00<00:00, 815.58it/s]  \n"
     ]
    }
   ],
   "source": [
    "configure_mlflow()\n",
    "pred_path = os.path.join(DATA_PATH, \"predict\", \"X_train_full.parquet\")\n",
    "storage = Storage(use_s3=USE_S3)\n",
    "full_df = storage.read_parquet(pred_path)\n",
    "model = load_model_from_mlflow()\n"
   ]
  },
  {
   "cell_type": "code",
   "execution_count": 3,
   "metadata": {},
   "outputs": [
    {
     "data": {
      "application/vnd.microsoft.datawrangler.viewer.v0+json": {
       "columns": [
        {
         "name": "index",
         "rawType": "int64",
         "type": "integer"
        },
        {
         "name": "userId",
         "rawType": "object",
         "type": "string"
        },
        {
         "name": "pageId",
         "rawType": "object",
         "type": "string"
        },
        {
         "name": "userType",
         "rawType": "category",
         "type": "unknown"
        },
        {
         "name": "isWeekend",
         "rawType": "bool",
         "type": "boolean"
        },
        {
         "name": "dayPeriod",
         "rawType": "category",
         "type": "unknown"
        },
        {
         "name": "issuedDatetime",
         "rawType": "datetime64[ns]",
         "type": "datetime"
        },
        {
         "name": "timestampHistoryDatetime",
         "rawType": "datetime64[ns]",
         "type": "datetime"
        },
        {
         "name": "coldStart",
         "rawType": "bool",
         "type": "boolean"
        },
        {
         "name": "localState",
         "rawType": "object",
         "type": "unknown"
        },
        {
         "name": "localRegion",
         "rawType": "object",
         "type": "unknown"
        },
        {
         "name": "themeMain",
         "rawType": "object",
         "type": "unknown"
        },
        {
         "name": "themeSub",
         "rawType": "object",
         "type": "unknown"
        },
        {
         "name": "relLocalState",
         "rawType": "float64",
         "type": "float"
        },
        {
         "name": "relLocalRegion",
         "rawType": "float64",
         "type": "float"
        },
        {
         "name": "relThemeMain",
         "rawType": "float64",
         "type": "float"
        },
        {
         "name": "relThemeSub",
         "rawType": "float64",
         "type": "float"
        },
        {
         "name": "userTypeFreq",
         "rawType": "float64",
         "type": "float"
        },
        {
         "name": "dayPeriodFreq",
         "rawType": "float64",
         "type": "float"
        },
        {
         "name": "localStateFreq",
         "rawType": "float64",
         "type": "float"
        },
        {
         "name": "localRegionFreq",
         "rawType": "float64",
         "type": "float"
        },
        {
         "name": "themeMainFreq",
         "rawType": "float64",
         "type": "float"
        },
        {
         "name": "themeSubFreq",
         "rawType": "float64",
         "type": "float"
        }
       ],
       "conversionMethod": "pd.DataFrame",
       "ref": "87e13c91-6319-4b99-b24d-2389f64c50ae",
       "rows": [
        [
         "0",
         "ed93a78d03476cd479f22ec4c9f119f76edcdc3842d0147564b8901a4044b54f",
         "6acdd9ff-e022-451b-8732-7493e9d41112",
         "Non-Logged",
         "False",
         "night",
         "2022-07-28 18:32:30",
         "2022-07-12 20:52:09",
         "False",
         "sc",
         "santa-catarina",
         null,
         null,
         "0.0449438202247191",
         "0.0449438202247191",
         null,
         null,
         "0.530528258737078",
         "0.32276351506919815",
         "0.042995327985185995",
         "0.042995327985185995",
         null,
         null
        ],
        [
         "1",
         "40b221679af85bda14fec9e8706a7ee27b2e46be3e4a6ca36d5789727ae143a8",
         "4ab20151-8a01-49b8-943c-6530b6c9bad0",
         "Non-Logged",
         "False",
         "dawn",
         "2022-02-18 02:54:17",
         "2022-07-28 00:31:56",
         "False",
         "pa",
         "para",
         null,
         null,
         "0.9333333333333333",
         "0.9333333333333333",
         null,
         null,
         "0.530528258737078",
         "0.13979518195836696",
         "0.009825241062563578",
         "0.008728809945848485",
         null,
         null
        ],
        [
         "2",
         "6241ed429e1c6e0046106a23a5304c06512ef71ea707d01f832c051b950faf83",
         "e4a32f87-4d4a-42dd-b1d0-b4d0564b03bf",
         "Logged",
         "False",
         "afternoon",
         "2022-07-07 12:28:32",
         "2022-08-05 13:14:13",
         "False",
         "go",
         "goias",
         null,
         null,
         "0.014084507042253521",
         "0.014084507042253521",
         null,
         null,
         "0.46947174126292207",
         "0.39570551553742",
         "0.05421851872156132",
         "0.05421851872156132",
         null,
         null
        ],
        [
         "3",
         "c5717e991473faa1c8046c86bf70b6f1abfab977db19313389457f50a547d07f",
         "d44cb6e8-1e0c-471a-b843-993a590b3ffc",
         "Non-Logged",
         "False",
         "morning",
         "2022-04-26 20:08:46",
         "2022-07-05 11:35:17",
         "False",
         null,
         null,
         "economia",
         null,
         null,
         null,
         "0.16",
         null,
         "0.530528258737078",
         "0.14173578743501486",
         null,
         null,
         "0.1161193162302835",
         null
        ],
        [
         "4",
         "9db411578e57e00ba8763a82f3282f8b37c0f40ece0ff43a7b01b1ff7c31d42b",
         "bd4e7054-4043-4acf-9a49-7d883152189d",
         "Non-Logged",
         "False",
         "dawn",
         "2022-07-13 00:46:16",
         "2022-08-03 01:51:42",
         "False",
         "rj",
         "rio-de-janeiro",
         null,
         null,
         "0.13636363636363635",
         "0.13636363636363635",
         null,
         null,
         "0.530528258737078",
         "0.13979518195836696",
         "0.23510528784362456",
         "0.22199684471489745",
         null,
         null
        ]
       ],
       "shape": {
        "columns": 22,
        "rows": 5
       }
      },
      "text/html": [
       "<div>\n",
       "<style scoped>\n",
       "    .dataframe tbody tr th:only-of-type {\n",
       "        vertical-align: middle;\n",
       "    }\n",
       "\n",
       "    .dataframe tbody tr th {\n",
       "        vertical-align: top;\n",
       "    }\n",
       "\n",
       "    .dataframe thead th {\n",
       "        text-align: right;\n",
       "    }\n",
       "</style>\n",
       "<table border=\"1\" class=\"dataframe\">\n",
       "  <thead>\n",
       "    <tr style=\"text-align: right;\">\n",
       "      <th></th>\n",
       "      <th>userId</th>\n",
       "      <th>pageId</th>\n",
       "      <th>userType</th>\n",
       "      <th>isWeekend</th>\n",
       "      <th>dayPeriod</th>\n",
       "      <th>issuedDatetime</th>\n",
       "      <th>timestampHistoryDatetime</th>\n",
       "      <th>coldStart</th>\n",
       "      <th>localState</th>\n",
       "      <th>localRegion</th>\n",
       "      <th>...</th>\n",
       "      <th>relLocalState</th>\n",
       "      <th>relLocalRegion</th>\n",
       "      <th>relThemeMain</th>\n",
       "      <th>relThemeSub</th>\n",
       "      <th>userTypeFreq</th>\n",
       "      <th>dayPeriodFreq</th>\n",
       "      <th>localStateFreq</th>\n",
       "      <th>localRegionFreq</th>\n",
       "      <th>themeMainFreq</th>\n",
       "      <th>themeSubFreq</th>\n",
       "    </tr>\n",
       "  </thead>\n",
       "  <tbody>\n",
       "    <tr>\n",
       "      <th>0</th>\n",
       "      <td>ed93a78d03476cd479f22ec4c9f119f76edcdc3842d014...</td>\n",
       "      <td>6acdd9ff-e022-451b-8732-7493e9d41112</td>\n",
       "      <td>Non-Logged</td>\n",
       "      <td>False</td>\n",
       "      <td>night</td>\n",
       "      <td>2022-07-28 18:32:30</td>\n",
       "      <td>2022-07-12 20:52:09</td>\n",
       "      <td>False</td>\n",
       "      <td>sc</td>\n",
       "      <td>santa-catarina</td>\n",
       "      <td>...</td>\n",
       "      <td>0.044944</td>\n",
       "      <td>0.044944</td>\n",
       "      <td>NaN</td>\n",
       "      <td>NaN</td>\n",
       "      <td>0.530528</td>\n",
       "      <td>0.322764</td>\n",
       "      <td>0.042995</td>\n",
       "      <td>0.042995</td>\n",
       "      <td>NaN</td>\n",
       "      <td>NaN</td>\n",
       "    </tr>\n",
       "    <tr>\n",
       "      <th>1</th>\n",
       "      <td>40b221679af85bda14fec9e8706a7ee27b2e46be3e4a6c...</td>\n",
       "      <td>4ab20151-8a01-49b8-943c-6530b6c9bad0</td>\n",
       "      <td>Non-Logged</td>\n",
       "      <td>False</td>\n",
       "      <td>dawn</td>\n",
       "      <td>2022-02-18 02:54:17</td>\n",
       "      <td>2022-07-28 00:31:56</td>\n",
       "      <td>False</td>\n",
       "      <td>pa</td>\n",
       "      <td>para</td>\n",
       "      <td>...</td>\n",
       "      <td>0.933333</td>\n",
       "      <td>0.933333</td>\n",
       "      <td>NaN</td>\n",
       "      <td>NaN</td>\n",
       "      <td>0.530528</td>\n",
       "      <td>0.139795</td>\n",
       "      <td>0.009825</td>\n",
       "      <td>0.008729</td>\n",
       "      <td>NaN</td>\n",
       "      <td>NaN</td>\n",
       "    </tr>\n",
       "    <tr>\n",
       "      <th>2</th>\n",
       "      <td>6241ed429e1c6e0046106a23a5304c06512ef71ea707d0...</td>\n",
       "      <td>e4a32f87-4d4a-42dd-b1d0-b4d0564b03bf</td>\n",
       "      <td>Logged</td>\n",
       "      <td>False</td>\n",
       "      <td>afternoon</td>\n",
       "      <td>2022-07-07 12:28:32</td>\n",
       "      <td>2022-08-05 13:14:13</td>\n",
       "      <td>False</td>\n",
       "      <td>go</td>\n",
       "      <td>goias</td>\n",
       "      <td>...</td>\n",
       "      <td>0.014085</td>\n",
       "      <td>0.014085</td>\n",
       "      <td>NaN</td>\n",
       "      <td>NaN</td>\n",
       "      <td>0.469472</td>\n",
       "      <td>0.395706</td>\n",
       "      <td>0.054219</td>\n",
       "      <td>0.054219</td>\n",
       "      <td>NaN</td>\n",
       "      <td>NaN</td>\n",
       "    </tr>\n",
       "    <tr>\n",
       "      <th>3</th>\n",
       "      <td>c5717e991473faa1c8046c86bf70b6f1abfab977db1931...</td>\n",
       "      <td>d44cb6e8-1e0c-471a-b843-993a590b3ffc</td>\n",
       "      <td>Non-Logged</td>\n",
       "      <td>False</td>\n",
       "      <td>morning</td>\n",
       "      <td>2022-04-26 20:08:46</td>\n",
       "      <td>2022-07-05 11:35:17</td>\n",
       "      <td>False</td>\n",
       "      <td>None</td>\n",
       "      <td>None</td>\n",
       "      <td>...</td>\n",
       "      <td>NaN</td>\n",
       "      <td>NaN</td>\n",
       "      <td>0.16</td>\n",
       "      <td>NaN</td>\n",
       "      <td>0.530528</td>\n",
       "      <td>0.141736</td>\n",
       "      <td>NaN</td>\n",
       "      <td>NaN</td>\n",
       "      <td>0.116119</td>\n",
       "      <td>NaN</td>\n",
       "    </tr>\n",
       "    <tr>\n",
       "      <th>4</th>\n",
       "      <td>9db411578e57e00ba8763a82f3282f8b37c0f40ece0ff4...</td>\n",
       "      <td>bd4e7054-4043-4acf-9a49-7d883152189d</td>\n",
       "      <td>Non-Logged</td>\n",
       "      <td>False</td>\n",
       "      <td>dawn</td>\n",
       "      <td>2022-07-13 00:46:16</td>\n",
       "      <td>2022-08-03 01:51:42</td>\n",
       "      <td>False</td>\n",
       "      <td>rj</td>\n",
       "      <td>rio-de-janeiro</td>\n",
       "      <td>...</td>\n",
       "      <td>0.136364</td>\n",
       "      <td>0.136364</td>\n",
       "      <td>NaN</td>\n",
       "      <td>NaN</td>\n",
       "      <td>0.530528</td>\n",
       "      <td>0.139795</td>\n",
       "      <td>0.235105</td>\n",
       "      <td>0.221997</td>\n",
       "      <td>NaN</td>\n",
       "      <td>NaN</td>\n",
       "    </tr>\n",
       "  </tbody>\n",
       "</table>\n",
       "<p>5 rows × 22 columns</p>\n",
       "</div>"
      ],
      "text/plain": [
       "                                              userId  \\\n",
       "0  ed93a78d03476cd479f22ec4c9f119f76edcdc3842d014...   \n",
       "1  40b221679af85bda14fec9e8706a7ee27b2e46be3e4a6c...   \n",
       "2  6241ed429e1c6e0046106a23a5304c06512ef71ea707d0...   \n",
       "3  c5717e991473faa1c8046c86bf70b6f1abfab977db1931...   \n",
       "4  9db411578e57e00ba8763a82f3282f8b37c0f40ece0ff4...   \n",
       "\n",
       "                                 pageId    userType  isWeekend  dayPeriod  \\\n",
       "0  6acdd9ff-e022-451b-8732-7493e9d41112  Non-Logged      False      night   \n",
       "1  4ab20151-8a01-49b8-943c-6530b6c9bad0  Non-Logged      False       dawn   \n",
       "2  e4a32f87-4d4a-42dd-b1d0-b4d0564b03bf      Logged      False  afternoon   \n",
       "3  d44cb6e8-1e0c-471a-b843-993a590b3ffc  Non-Logged      False    morning   \n",
       "4  bd4e7054-4043-4acf-9a49-7d883152189d  Non-Logged      False       dawn   \n",
       "\n",
       "       issuedDatetime timestampHistoryDatetime  coldStart localState  \\\n",
       "0 2022-07-28 18:32:30      2022-07-12 20:52:09      False         sc   \n",
       "1 2022-02-18 02:54:17      2022-07-28 00:31:56      False         pa   \n",
       "2 2022-07-07 12:28:32      2022-08-05 13:14:13      False         go   \n",
       "3 2022-04-26 20:08:46      2022-07-05 11:35:17      False       None   \n",
       "4 2022-07-13 00:46:16      2022-08-03 01:51:42      False         rj   \n",
       "\n",
       "      localRegion  ... relLocalState relLocalRegion  relThemeMain  \\\n",
       "0  santa-catarina  ...      0.044944       0.044944           NaN   \n",
       "1            para  ...      0.933333       0.933333           NaN   \n",
       "2           goias  ...      0.014085       0.014085           NaN   \n",
       "3            None  ...           NaN            NaN          0.16   \n",
       "4  rio-de-janeiro  ...      0.136364       0.136364           NaN   \n",
       "\n",
       "   relThemeSub  userTypeFreq  dayPeriodFreq  localStateFreq  localRegionFreq  \\\n",
       "0          NaN      0.530528       0.322764        0.042995         0.042995   \n",
       "1          NaN      0.530528       0.139795        0.009825         0.008729   \n",
       "2          NaN      0.469472       0.395706        0.054219         0.054219   \n",
       "3          NaN      0.530528       0.141736             NaN              NaN   \n",
       "4          NaN      0.530528       0.139795        0.235105         0.221997   \n",
       "\n",
       "   themeMainFreq  themeSubFreq  \n",
       "0            NaN           NaN  \n",
       "1            NaN           NaN  \n",
       "2            NaN           NaN  \n",
       "3       0.116119           NaN  \n",
       "4            NaN           NaN  \n",
       "\n",
       "[5 rows x 22 columns]"
      ]
     },
     "execution_count": 3,
     "metadata": {},
     "output_type": "execute_result"
    }
   ],
   "source": [
    "full_df.head()"
   ]
  },
  {
   "cell_type": "code",
   "execution_count": 4,
   "metadata": {},
   "outputs": [],
   "source": [
    "# recs = predict_for_userId(userId, full_df, model)\n",
    "\n",
    "userId = \"ed93a78d03476cd479f22ec4c9f119f76edcdc3842d0147564b8901a4044b54f\"\n",
    "\n",
    "seen = full_df.loc[full_df[\"userId\"] == userId, \"pageId\"].unique()\n",
    "non_viewed = full_df[~full_df[\"pageId\"].isin(seen)].copy()"
   ]
  },
  {
   "cell_type": "code",
   "execution_count": 7,
   "metadata": {},
   "outputs": [
    {
     "data": {
      "text/plain": [
       "userId                      ed93a78d03476cd479f22ec4c9f119f76edcdc3842d014...\n",
       "pageId                                   6acdd9ff-e022-451b-8732-7493e9d41112\n",
       "userType                                                           Non-Logged\n",
       "isWeekend                                                               False\n",
       "dayPeriod                                                               night\n",
       "issuedDatetime                                            2022-07-28 18:32:30\n",
       "timestampHistoryDatetime                                  2022-07-12 20:52:09\n",
       "coldStart                                                               False\n",
       "localState                                                                 sc\n",
       "localRegion                                                    santa-catarina\n",
       "themeMain                                                                None\n",
       "themeSub                                                                 None\n",
       "relLocalState                                                        0.044944\n",
       "relLocalRegion                                                       0.044944\n",
       "relThemeMain                                                              NaN\n",
       "relThemeSub                                                               NaN\n",
       "userTypeFreq                                                         0.530528\n",
       "dayPeriodFreq                                                        0.322764\n",
       "localStateFreq                                                       0.042995\n",
       "localRegionFreq                                                      0.042995\n",
       "themeMainFreq                                                             NaN\n",
       "themeSubFreq                                                              NaN\n",
       "Name: 0, dtype: object"
      ]
     },
     "execution_count": 7,
     "metadata": {},
     "output_type": "execute_result"
    }
   ],
   "source": [
    "\n",
    "client_feat = get_client_features(userId, full_df)\n",
    "client_feat\n"
   ]
  },
  {
   "cell_type": "code",
   "execution_count": null,
   "metadata": {},
   "outputs": [],
   "source": [
    "\n",
    "client_df = pd.DataFrame([client_feat])\n",
    "\n",
    "\n",
    "model_input = non_viewed.assign(userId=userId).merge(\n",
    "    client_df.drop(columns=[\"userId\"]), how=\"cross\")\n"
   ]
  },
  {
   "cell_type": "code",
   "execution_count": null,
   "metadata": {},
   "outputs": [],
   "source": [
    "\n",
    "\n",
    "scores = model.predict(model_input)\n",
    "pred_news = get_predicted_news(scores, non_viewed, n=n,\n",
    "                               score_threshold=score_threshold)"
   ]
  }
 ],
 "metadata": {
  "kernelspec": {
   "display_name": "datathon",
   "language": "python",
   "name": "python3"
  },
  "language_info": {
   "codemirror_mode": {
    "name": "ipython",
    "version": 3
   },
   "file_extension": ".py",
   "mimetype": "text/x-python",
   "name": "python",
   "nbconvert_exporter": "python",
   "pygments_lexer": "ipython3",
   "version": "3.9.21"
  }
 },
 "nbformat": 4,
 "nbformat_minor": 2
}
