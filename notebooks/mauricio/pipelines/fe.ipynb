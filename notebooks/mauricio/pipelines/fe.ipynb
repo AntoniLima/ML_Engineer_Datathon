{
 "cells": [
  {
   "cell_type": "code",
   "execution_count": 1,
   "metadata": {},
   "outputs": [
    {
     "name": "stderr",
     "output_type": "stream",
     "text": [
      "2025-03-01 18:24:25,968 - src.config - INFO - config.py - Ambiente: dev\n",
      "2025-03-01 18:24:26,593 - config - INFO - config.py - Ambiente: dev\n"
     ]
    }
   ],
   "source": [
    "\n",
    "import os\n",
    "import sys\n",
    "import pandas as pd\n",
    "import mlflow\n",
    "\n",
    "# Adiciona o diretório src ao PYTHONPATH\n",
    "project_dir = os.path.abspath(os.path.join(os.getcwd(), '../../../'))\n",
    "if project_dir not in sys.path:\n",
    "    sys.path.append(project_dir)\n",
    "\n",
    "from src.config import get_config, get_data_path, CONFIG, logger, USE_S3, DATA_PATH, SAMPLE_RATE, COLD_START_THRESHOLD, USERS_DIRECTORY\n",
    "\n",
    "from src.config import SAMPLE_RATE, COLD_START_THRESHOLD, USERS_DIRECTORY, NEWS_DIRECTORY\n",
    "from src.features.pp_mix import preprocess_mix_feats, generate_suggested_feats\n",
    "from src.features.pp_news import preprocess_news\n",
    "from src.features.pp_target import preprocess_target\n",
    "from src.features.pp_users import preprocess_users\n",
    "from src.features.constants import USERS_COLS_TO_EXPLODE, USERS_DTYPES, NEWS_COLS_TO_DROP\n",
    "from storage.io import Storage\n",
    "from src.features.utils import concatenate_csv_files\n",
    "\n",
    "\n",
    "from src.features.pipeline import (\n",
    "    _preprocess_and_save_users,\n",
    "    _preprocess_and_save_news,\n",
    "    _preprocess_and_save_mix_feats,\n",
    "    _assemble_and_save_suggested_feats,\n",
    "    _preprocess_and_save_target,\n",
    "    _assemble_and_save_final_feats,\n",
    ")"
   ]
  },
  {
   "cell_type": "code",
   "execution_count": 2,
   "metadata": {},
   "outputs": [
    {
     "name": "stderr",
     "output_type": "stream",
     "text": [
      "2025-03-01 18:24:27,898 - config - INFO - factory.py - Inicializando armazenamento local\n"
     ]
    }
   ],
   "source": [
    "storage = Storage(use_s3=USE_S3)"
   ]
  },
  {
   "cell_type": "markdown",
   "metadata": {},
   "source": [
    "# Users"
   ]
  },
  {
   "cell_type": "code",
   "execution_count": 3,
   "metadata": {},
   "outputs": [],
   "source": [
    "from src.features.pp_users import (\n",
    "    _process_history_columns,\n",
    "    _process_timestamp,\n",
    "    _extract_time_features\n",
    ")"
   ]
  },
  {
   "cell_type": "code",
   "execution_count": 4,
   "metadata": {},
   "outputs": [],
   "source": [
    "# users_df = _preprocess_and_save_users(DATA_PATH, storage)\n"
   ]
  },
  {
   "cell_type": "code",
   "execution_count": 5,
   "metadata": {},
   "outputs": [
    {
     "name": "stderr",
     "output_type": "stream",
     "text": [
      "2025-03-01 18:24:29,593 - config - INFO - factory.py - Inicializando armazenamento local\n",
      "2025-03-01 18:24:29,595 - src.config - INFO - utils.py - Encontrados 6 CSVs em /Users/mauricioaraujo/Eng_ML/FIAP/Fase_5-MLOps/ML_Engineer_Datathon/data/challenge-webmedia-e-globo-2023/files/treino\n",
      "2025-03-01 18:24:30,609 - src.config - INFO - utils.py - Arquivo: treino_parte3.csv, linhas: 100000, cols: 10\n",
      "2025-03-01 18:24:31,598 - src.config - INFO - utils.py - Arquivo: treino_parte2.csv, linhas: 100000, cols: 10\n",
      "2025-03-01 18:24:32,737 - src.config - INFO - utils.py - Arquivo: treino_parte1.csv, linhas: 100000, cols: 10\n",
      "2025-03-01 18:24:33,761 - src.config - INFO - utils.py - Arquivo: treino_parte5.csv, linhas: 100000, cols: 10\n",
      "2025-03-01 18:24:34,802 - src.config - INFO - utils.py - Arquivo: treino_parte4.csv, linhas: 100000, cols: 10\n",
      "2025-03-01 18:24:35,790 - src.config - INFO - utils.py - Arquivo: treino_parte6.csv, linhas: 77942, cols: 10\n",
      "2025-03-01 18:24:36,064 - src.config - INFO - utils.py - Linhas após concatenação: 577942\n"
     ]
    }
   ],
   "source": [
    "df = concatenate_csv_files(USERS_DIRECTORY)"
   ]
  },
  {
   "cell_type": "code",
   "execution_count": 6,
   "metadata": {},
   "outputs": [
    {
     "data": {
      "application/vnd.microsoft.datawrangler.viewer.v0+json": {
       "columns": [
        {
         "name": "index",
         "rawType": "int64",
         "type": "integer"
        },
        {
         "name": "userId",
         "rawType": "object",
         "type": "string"
        },
        {
         "name": "userType",
         "rawType": "object",
         "type": "string"
        },
        {
         "name": "historySize",
         "rawType": "int64",
         "type": "integer"
        },
        {
         "name": "history",
         "rawType": "object",
         "type": "string"
        },
        {
         "name": "timestampHistory",
         "rawType": "object",
         "type": "string"
        },
        {
         "name": "numberOfClicksHistory",
         "rawType": "object",
         "type": "string"
        },
        {
         "name": "timeOnPageHistory",
         "rawType": "object",
         "type": "string"
        },
        {
         "name": "scrollPercentageHistory",
         "rawType": "object",
         "type": "string"
        },
        {
         "name": "pageVisitsCountHistory",
         "rawType": "object",
         "type": "string"
        },
        {
         "name": "timestampHistory_new",
         "rawType": "object",
         "type": "string"
        }
       ],
       "conversionMethod": "pd.DataFrame",
       "ref": "77237ecb-a410-4b3d-8556-525597365309",
       "rows": [
        [
         "0",
         "fbb963d61eb8149e7f43b1bd905457ba5e106a830ddc27288434101e7252ef57",
         "Non-Logged",
         "2",
         "80aa7bb2-adce-4a55-9711-912c407927a1, d9e5f15d-b441-4d8b-bee4-462b106d3916",
         "1657908085200, 1659634203762",
         "0, 0",
         "71998, 115232",
         "81.58, 73.36",
         "1, 1",
         "1657908085200, 1659634203762"
        ],
        [
         "1",
         "17f1083e6079b0f28f7820a6803583d1c1b405c0718b11a18d30b1620f643b23",
         "Non-Logged",
         "2",
         "19ba89fc-1e06-4c5d-9c57-4a3088dc0511, e273dba4-136c-45fb-bdd6-0cc57b13aaf0",
         "1657111508570, 1657481309920",
         "68, 12",
         "131495, 43733",
         "51.74, 35.49",
         "1, 1",
         "1657111508570, 1657481309920"
        ],
        [
         "2",
         "528a8d7a2af73101da8d6709c1ec875b449a5a58749a998ae2d949c10d1772df",
         "Non-Logged",
         "2",
         "59a61a8a-cc52-453f-b1cd-2bd019e9d574, a0562805-c7d1-4ffd-b622-87c50ae006f4",
         "1657823890328, 1660141444328",
         "55, 9",
         "159042, 10336",
         "62.19, 48.28",
         "1, 1",
         "1657823890328, 1660141444328"
        ],
        [
         "3",
         "2dd18b58a634a4e77181a202cf152df6169dfb3e4230ef4dc41ea9216be40698",
         "Non-Logged",
         "2",
         "233f8238-2ce0-470f-a9d5-0e0ac530382a, 037155f4-4db8-4f07-8d0a-3e559605b8ad",
         "1656963373076, 1657091888917",
         "0, 0",
         "193579, 20519",
         "31.03, 31.9",
         "1, 1",
         "1656963373076, 1657091888917"
        ],
        [
         "4",
         "97e1439d485b0630e12818d3df84ff67d08475ef6ebeb08e5354779ad6a30fdb",
         "Logged",
         "2",
         "385044ad-3876-4188-83fa-f560435c1a9c, 2f754502-7014-488b-88c7-d41328d5e80d",
         "1657618607633, 1659536839832",
         "57, 38",
         "220000, 130000",
         "52.65, 53.37",
         "1, 1",
         "1657618607633, 1659536839832"
        ]
       ],
       "shape": {
        "columns": 10,
        "rows": 5
       }
      },
      "text/html": [
       "<div>\n",
       "<style scoped>\n",
       "    .dataframe tbody tr th:only-of-type {\n",
       "        vertical-align: middle;\n",
       "    }\n",
       "\n",
       "    .dataframe tbody tr th {\n",
       "        vertical-align: top;\n",
       "    }\n",
       "\n",
       "    .dataframe thead th {\n",
       "        text-align: right;\n",
       "    }\n",
       "</style>\n",
       "<table border=\"1\" class=\"dataframe\">\n",
       "  <thead>\n",
       "    <tr style=\"text-align: right;\">\n",
       "      <th></th>\n",
       "      <th>userId</th>\n",
       "      <th>userType</th>\n",
       "      <th>historySize</th>\n",
       "      <th>history</th>\n",
       "      <th>timestampHistory</th>\n",
       "      <th>numberOfClicksHistory</th>\n",
       "      <th>timeOnPageHistory</th>\n",
       "      <th>scrollPercentageHistory</th>\n",
       "      <th>pageVisitsCountHistory</th>\n",
       "      <th>timestampHistory_new</th>\n",
       "    </tr>\n",
       "  </thead>\n",
       "  <tbody>\n",
       "    <tr>\n",
       "      <th>0</th>\n",
       "      <td>fbb963d61eb8149e7f43b1bd905457ba5e106a830ddc27...</td>\n",
       "      <td>Non-Logged</td>\n",
       "      <td>2</td>\n",
       "      <td>80aa7bb2-adce-4a55-9711-912c407927a1, d9e5f15d...</td>\n",
       "      <td>1657908085200, 1659634203762</td>\n",
       "      <td>0, 0</td>\n",
       "      <td>71998, 115232</td>\n",
       "      <td>81.58, 73.36</td>\n",
       "      <td>1, 1</td>\n",
       "      <td>1657908085200, 1659634203762</td>\n",
       "    </tr>\n",
       "    <tr>\n",
       "      <th>1</th>\n",
       "      <td>17f1083e6079b0f28f7820a6803583d1c1b405c0718b11...</td>\n",
       "      <td>Non-Logged</td>\n",
       "      <td>2</td>\n",
       "      <td>19ba89fc-1e06-4c5d-9c57-4a3088dc0511, e273dba4...</td>\n",
       "      <td>1657111508570, 1657481309920</td>\n",
       "      <td>68, 12</td>\n",
       "      <td>131495, 43733</td>\n",
       "      <td>51.74, 35.49</td>\n",
       "      <td>1, 1</td>\n",
       "      <td>1657111508570, 1657481309920</td>\n",
       "    </tr>\n",
       "    <tr>\n",
       "      <th>2</th>\n",
       "      <td>528a8d7a2af73101da8d6709c1ec875b449a5a58749a99...</td>\n",
       "      <td>Non-Logged</td>\n",
       "      <td>2</td>\n",
       "      <td>59a61a8a-cc52-453f-b1cd-2bd019e9d574, a0562805...</td>\n",
       "      <td>1657823890328, 1660141444328</td>\n",
       "      <td>55, 9</td>\n",
       "      <td>159042, 10336</td>\n",
       "      <td>62.19, 48.28</td>\n",
       "      <td>1, 1</td>\n",
       "      <td>1657823890328, 1660141444328</td>\n",
       "    </tr>\n",
       "    <tr>\n",
       "      <th>3</th>\n",
       "      <td>2dd18b58a634a4e77181a202cf152df6169dfb3e4230ef...</td>\n",
       "      <td>Non-Logged</td>\n",
       "      <td>2</td>\n",
       "      <td>233f8238-2ce0-470f-a9d5-0e0ac530382a, 037155f4...</td>\n",
       "      <td>1656963373076, 1657091888917</td>\n",
       "      <td>0, 0</td>\n",
       "      <td>193579, 20519</td>\n",
       "      <td>31.03, 31.9</td>\n",
       "      <td>1, 1</td>\n",
       "      <td>1656963373076, 1657091888917</td>\n",
       "    </tr>\n",
       "    <tr>\n",
       "      <th>4</th>\n",
       "      <td>97e1439d485b0630e12818d3df84ff67d08475ef6ebeb0...</td>\n",
       "      <td>Logged</td>\n",
       "      <td>2</td>\n",
       "      <td>385044ad-3876-4188-83fa-f560435c1a9c, 2f754502...</td>\n",
       "      <td>1657618607633, 1659536839832</td>\n",
       "      <td>57, 38</td>\n",
       "      <td>220000, 130000</td>\n",
       "      <td>52.65, 53.37</td>\n",
       "      <td>1, 1</td>\n",
       "      <td>1657618607633, 1659536839832</td>\n",
       "    </tr>\n",
       "  </tbody>\n",
       "</table>\n",
       "</div>"
      ],
      "text/plain": [
       "                                              userId    userType  historySize  \\\n",
       "0  fbb963d61eb8149e7f43b1bd905457ba5e106a830ddc27...  Non-Logged            2   \n",
       "1  17f1083e6079b0f28f7820a6803583d1c1b405c0718b11...  Non-Logged            2   \n",
       "2  528a8d7a2af73101da8d6709c1ec875b449a5a58749a99...  Non-Logged            2   \n",
       "3  2dd18b58a634a4e77181a202cf152df6169dfb3e4230ef...  Non-Logged            2   \n",
       "4  97e1439d485b0630e12818d3df84ff67d08475ef6ebeb0...      Logged            2   \n",
       "\n",
       "                                             history  \\\n",
       "0  80aa7bb2-adce-4a55-9711-912c407927a1, d9e5f15d...   \n",
       "1  19ba89fc-1e06-4c5d-9c57-4a3088dc0511, e273dba4...   \n",
       "2  59a61a8a-cc52-453f-b1cd-2bd019e9d574, a0562805...   \n",
       "3  233f8238-2ce0-470f-a9d5-0e0ac530382a, 037155f4...   \n",
       "4  385044ad-3876-4188-83fa-f560435c1a9c, 2f754502...   \n",
       "\n",
       "               timestampHistory numberOfClicksHistory timeOnPageHistory  \\\n",
       "0  1657908085200, 1659634203762                  0, 0     71998, 115232   \n",
       "1  1657111508570, 1657481309920                68, 12     131495, 43733   \n",
       "2  1657823890328, 1660141444328                 55, 9     159042, 10336   \n",
       "3  1656963373076, 1657091888917                  0, 0     193579, 20519   \n",
       "4  1657618607633, 1659536839832                57, 38    220000, 130000   \n",
       "\n",
       "  scrollPercentageHistory pageVisitsCountHistory          timestampHistory_new  \n",
       "0            81.58, 73.36                   1, 1  1657908085200, 1659634203762  \n",
       "1            51.74, 35.49                   1, 1  1657111508570, 1657481309920  \n",
       "2            62.19, 48.28                   1, 1  1657823890328, 1660141444328  \n",
       "3             31.03, 31.9                   1, 1  1656963373076, 1657091888917  \n",
       "4            52.65, 53.37                   1, 1  1657618607633, 1659536839832  "
      ]
     },
     "execution_count": 6,
     "metadata": {},
     "output_type": "execute_result"
    }
   ],
   "source": [
    "df.head()"
   ]
  },
  {
   "cell_type": "code",
   "execution_count": 7,
   "metadata": {},
   "outputs": [],
   "source": [
    "\n",
    "df = df.sample(frac=SAMPLE_RATE, random_state=42)\n",
    "df = _process_history_columns(df)\n",
    "df = df.astype(USERS_DTYPES)\n",
    "df = _process_timestamp(df)\n",
    "df = _extract_time_features(df)\n",
    "df[\"coldStart\"] = df[\"historySize\"] < COLD_START_THRESHOLD\n",
    "df.rename(columns={\"history\": \"pageId\"}, inplace=True)\n",
    "df.drop(columns=[\"timestampHistory\", \"timestampHistory_new\"], inplace=True)\n",
    "\n",
    "users_df = df.copy()"
   ]
  },
  {
   "cell_type": "code",
   "execution_count": 8,
   "metadata": {},
   "outputs": [
    {
     "data": {
      "application/vnd.microsoft.datawrangler.viewer.v0+json": {
       "columns": [
        {
         "name": "index",
         "rawType": "int64",
         "type": "integer"
        },
        {
         "name": "userId",
         "rawType": "object",
         "type": "string"
        },
        {
         "name": "userType",
         "rawType": "category",
         "type": "unknown"
        },
        {
         "name": "historySize",
         "rawType": "int64",
         "type": "integer"
        },
        {
         "name": "pageId",
         "rawType": "object",
         "type": "string"
        },
        {
         "name": "numberOfClicksHistory",
         "rawType": "int64",
         "type": "integer"
        },
        {
         "name": "timeOnPageHistory",
         "rawType": "int64",
         "type": "integer"
        },
        {
         "name": "scrollPercentageHistory",
         "rawType": "float64",
         "type": "float"
        },
        {
         "name": "pageVisitsCountHistory",
         "rawType": "int64",
         "type": "integer"
        },
        {
         "name": "minutesSinceLastVisit",
         "rawType": "float64",
         "type": "float"
        },
        {
         "name": "timestampHistoryDate",
         "rawType": "object",
         "type": "unknown"
        },
        {
         "name": "timestampHistoryTime",
         "rawType": "object",
         "type": "string"
        },
        {
         "name": "timestampHistoryWeekday",
         "rawType": "int32",
         "type": "integer"
        },
        {
         "name": "timestampHistoryHour",
         "rawType": "int32",
         "type": "integer"
        },
        {
         "name": "isWeekend",
         "rawType": "bool",
         "type": "boolean"
        },
        {
         "name": "dayPeriod",
         "rawType": "category",
         "type": "unknown"
        },
        {
         "name": "coldStart",
         "rawType": "bool",
         "type": "boolean"
        }
       ],
       "conversionMethod": "pd.DataFrame",
       "ref": "4bedf7fd-d4db-414a-b012-572e91c38092",
       "rows": [
        [
         "0",
         "00007a4e5949a3dba7c977503c53e0873643fe17d0802aca678ad62d0b4d94f8",
         "Non-Logged",
         "1",
         "3101f64e-7048-426b-9cb6-b5a3d8ce78f3",
         "1",
         "30000",
         "10.48",
         "1",
         "0.0",
         "2022-07-04",
         "21:05:57",
         "0",
         "21",
         "False",
         "night",
         "True"
        ],
        [
         "1",
         "00014a8ad79d212f0410c3dd3260e37a093054b9d9a6a80b04843fd3ec9ee39b",
         "Non-Logged",
         "3",
         "c0a176b2-622f-42a4-8e5d-2a08032f8e08",
         "0",
         "252934",
         "61.42",
         "1",
         "0.0",
         "2022-07-01",
         "12:05:08",
         "4",
         "12",
         "False",
         "afternoon",
         "True"
        ],
        [
         "2",
         "00014a8ad79d212f0410c3dd3260e37a093054b9d9a6a80b04843fd3ec9ee39b",
         "Non-Logged",
         "3",
         "97ac6c4c-5b3d-4e36-9816-0791226573e5",
         "2",
         "70000",
         "53.84",
         "1",
         "1.0",
         "2022-07-01",
         "12:06:22",
         "4",
         "12",
         "False",
         "afternoon",
         "True"
        ],
        [
         "3",
         "00014a8ad79d212f0410c3dd3260e37a093054b9d9a6a80b04843fd3ec9ee39b",
         "Non-Logged",
         "3",
         "ece7f38e-1744-4885-83d9-2ffb89e40b11",
         "0",
         "10000",
         "11.37",
         "1",
         "115.0",
         "2022-07-01",
         "14:01:37",
         "4",
         "14",
         "False",
         "afternoon",
         "True"
        ],
        [
         "4",
         "00024d84a3d619b1972e9dd5efa9c930557d85f6463fd66532d0dc94e3fccb9b",
         "Logged",
         "1",
         "c274ed4b-e679-41ce-9dfb-c53874916511",
         "11",
         "32436",
         "46.58",
         "1",
         "0.0",
         "2022-07-30",
         "18:58:05",
         "5",
         "18",
         "True",
         "night",
         "True"
        ]
       ],
       "shape": {
        "columns": 16,
        "rows": 5
       }
      },
      "text/html": [
       "<div>\n",
       "<style scoped>\n",
       "    .dataframe tbody tr th:only-of-type {\n",
       "        vertical-align: middle;\n",
       "    }\n",
       "\n",
       "    .dataframe tbody tr th {\n",
       "        vertical-align: top;\n",
       "    }\n",
       "\n",
       "    .dataframe thead th {\n",
       "        text-align: right;\n",
       "    }\n",
       "</style>\n",
       "<table border=\"1\" class=\"dataframe\">\n",
       "  <thead>\n",
       "    <tr style=\"text-align: right;\">\n",
       "      <th></th>\n",
       "      <th>userId</th>\n",
       "      <th>userType</th>\n",
       "      <th>historySize</th>\n",
       "      <th>pageId</th>\n",
       "      <th>numberOfClicksHistory</th>\n",
       "      <th>timeOnPageHistory</th>\n",
       "      <th>scrollPercentageHistory</th>\n",
       "      <th>pageVisitsCountHistory</th>\n",
       "      <th>minutesSinceLastVisit</th>\n",
       "      <th>timestampHistoryDate</th>\n",
       "      <th>timestampHistoryTime</th>\n",
       "      <th>timestampHistoryWeekday</th>\n",
       "      <th>timestampHistoryHour</th>\n",
       "      <th>isWeekend</th>\n",
       "      <th>dayPeriod</th>\n",
       "      <th>coldStart</th>\n",
       "    </tr>\n",
       "  </thead>\n",
       "  <tbody>\n",
       "    <tr>\n",
       "      <th>0</th>\n",
       "      <td>00007a4e5949a3dba7c977503c53e0873643fe17d0802a...</td>\n",
       "      <td>Non-Logged</td>\n",
       "      <td>1</td>\n",
       "      <td>3101f64e-7048-426b-9cb6-b5a3d8ce78f3</td>\n",
       "      <td>1</td>\n",
       "      <td>30000</td>\n",
       "      <td>10.48</td>\n",
       "      <td>1</td>\n",
       "      <td>0.0</td>\n",
       "      <td>2022-07-04</td>\n",
       "      <td>21:05:57</td>\n",
       "      <td>0</td>\n",
       "      <td>21</td>\n",
       "      <td>False</td>\n",
       "      <td>night</td>\n",
       "      <td>True</td>\n",
       "    </tr>\n",
       "    <tr>\n",
       "      <th>1</th>\n",
       "      <td>00014a8ad79d212f0410c3dd3260e37a093054b9d9a6a8...</td>\n",
       "      <td>Non-Logged</td>\n",
       "      <td>3</td>\n",
       "      <td>c0a176b2-622f-42a4-8e5d-2a08032f8e08</td>\n",
       "      <td>0</td>\n",
       "      <td>252934</td>\n",
       "      <td>61.42</td>\n",
       "      <td>1</td>\n",
       "      <td>0.0</td>\n",
       "      <td>2022-07-01</td>\n",
       "      <td>12:05:08</td>\n",
       "      <td>4</td>\n",
       "      <td>12</td>\n",
       "      <td>False</td>\n",
       "      <td>afternoon</td>\n",
       "      <td>True</td>\n",
       "    </tr>\n",
       "    <tr>\n",
       "      <th>2</th>\n",
       "      <td>00014a8ad79d212f0410c3dd3260e37a093054b9d9a6a8...</td>\n",
       "      <td>Non-Logged</td>\n",
       "      <td>3</td>\n",
       "      <td>97ac6c4c-5b3d-4e36-9816-0791226573e5</td>\n",
       "      <td>2</td>\n",
       "      <td>70000</td>\n",
       "      <td>53.84</td>\n",
       "      <td>1</td>\n",
       "      <td>1.0</td>\n",
       "      <td>2022-07-01</td>\n",
       "      <td>12:06:22</td>\n",
       "      <td>4</td>\n",
       "      <td>12</td>\n",
       "      <td>False</td>\n",
       "      <td>afternoon</td>\n",
       "      <td>True</td>\n",
       "    </tr>\n",
       "    <tr>\n",
       "      <th>3</th>\n",
       "      <td>00014a8ad79d212f0410c3dd3260e37a093054b9d9a6a8...</td>\n",
       "      <td>Non-Logged</td>\n",
       "      <td>3</td>\n",
       "      <td>ece7f38e-1744-4885-83d9-2ffb89e40b11</td>\n",
       "      <td>0</td>\n",
       "      <td>10000</td>\n",
       "      <td>11.37</td>\n",
       "      <td>1</td>\n",
       "      <td>115.0</td>\n",
       "      <td>2022-07-01</td>\n",
       "      <td>14:01:37</td>\n",
       "      <td>4</td>\n",
       "      <td>14</td>\n",
       "      <td>False</td>\n",
       "      <td>afternoon</td>\n",
       "      <td>True</td>\n",
       "    </tr>\n",
       "    <tr>\n",
       "      <th>4</th>\n",
       "      <td>00024d84a3d619b1972e9dd5efa9c930557d85f6463fd6...</td>\n",
       "      <td>Logged</td>\n",
       "      <td>1</td>\n",
       "      <td>c274ed4b-e679-41ce-9dfb-c53874916511</td>\n",
       "      <td>11</td>\n",
       "      <td>32436</td>\n",
       "      <td>46.58</td>\n",
       "      <td>1</td>\n",
       "      <td>0.0</td>\n",
       "      <td>2022-07-30</td>\n",
       "      <td>18:58:05</td>\n",
       "      <td>5</td>\n",
       "      <td>18</td>\n",
       "      <td>True</td>\n",
       "      <td>night</td>\n",
       "      <td>True</td>\n",
       "    </tr>\n",
       "  </tbody>\n",
       "</table>\n",
       "</div>"
      ],
      "text/plain": [
       "                                              userId    userType  historySize  \\\n",
       "0  00007a4e5949a3dba7c977503c53e0873643fe17d0802a...  Non-Logged            1   \n",
       "1  00014a8ad79d212f0410c3dd3260e37a093054b9d9a6a8...  Non-Logged            3   \n",
       "2  00014a8ad79d212f0410c3dd3260e37a093054b9d9a6a8...  Non-Logged            3   \n",
       "3  00014a8ad79d212f0410c3dd3260e37a093054b9d9a6a8...  Non-Logged            3   \n",
       "4  00024d84a3d619b1972e9dd5efa9c930557d85f6463fd6...      Logged            1   \n",
       "\n",
       "                                 pageId  numberOfClicksHistory  \\\n",
       "0  3101f64e-7048-426b-9cb6-b5a3d8ce78f3                      1   \n",
       "1  c0a176b2-622f-42a4-8e5d-2a08032f8e08                      0   \n",
       "2  97ac6c4c-5b3d-4e36-9816-0791226573e5                      2   \n",
       "3  ece7f38e-1744-4885-83d9-2ffb89e40b11                      0   \n",
       "4  c274ed4b-e679-41ce-9dfb-c53874916511                     11   \n",
       "\n",
       "   timeOnPageHistory  scrollPercentageHistory  pageVisitsCountHistory  \\\n",
       "0              30000                    10.48                       1   \n",
       "1             252934                    61.42                       1   \n",
       "2              70000                    53.84                       1   \n",
       "3              10000                    11.37                       1   \n",
       "4              32436                    46.58                       1   \n",
       "\n",
       "   minutesSinceLastVisit timestampHistoryDate timestampHistoryTime  \\\n",
       "0                    0.0           2022-07-04             21:05:57   \n",
       "1                    0.0           2022-07-01             12:05:08   \n",
       "2                    1.0           2022-07-01             12:06:22   \n",
       "3                  115.0           2022-07-01             14:01:37   \n",
       "4                    0.0           2022-07-30             18:58:05   \n",
       "\n",
       "   timestampHistoryWeekday  timestampHistoryHour  isWeekend  dayPeriod  \\\n",
       "0                        0                    21      False      night   \n",
       "1                        4                    12      False  afternoon   \n",
       "2                        4                    12      False  afternoon   \n",
       "3                        4                    14      False  afternoon   \n",
       "4                        5                    18       True      night   \n",
       "\n",
       "   coldStart  \n",
       "0       True  \n",
       "1       True  \n",
       "2       True  \n",
       "3       True  \n",
       "4       True  "
      ]
     },
     "execution_count": 8,
     "metadata": {},
     "output_type": "execute_result"
    }
   ],
   "source": [
    "df.head()"
   ]
  },
  {
   "cell_type": "markdown",
   "metadata": {},
   "source": [
    "# News"
   ]
  },
  {
   "cell_type": "code",
   "execution_count": 9,
   "metadata": {},
   "outputs": [],
   "source": [
    "from src.features.pp_news import (\n",
    "    _download_resource,\n",
    "    _extract_url_mid_section,\n",
    "    _extract_location,\n",
    "    _extract_theme,\n",
    "    _preprocess_text,\n",
    ")"
   ]
  },
  {
   "cell_type": "code",
   "execution_count": 10,
   "metadata": {},
   "outputs": [],
   "source": [
    "selected_pageIds = list(users_df[\"pageId\"].unique())\n",
    "# news_df = _preprocess_and_save_news(DATA_PATH, selected_pageIds, storage)"
   ]
  },
  {
   "cell_type": "code",
   "execution_count": 11,
   "metadata": {},
   "outputs": [
    {
     "name": "stderr",
     "output_type": "stream",
     "text": [
      "2025-03-01 18:24:42,966 - src.config - INFO - pp_news.py - Recurso 'stopwords' já baixado.\n",
      "2025-03-01 18:24:42,970 - src.config - INFO - pp_news.py - Recurso 'wordnet' já baixado.\n",
      "2025-03-01 18:24:42,974 - src.config - INFO - pp_news.py - Recurso 'omw-1.4' já baixado.\n",
      "2025-03-01 18:24:42,974 - config - INFO - factory.py - Inicializando armazenamento local\n",
      "2025-03-01 18:24:42,975 - src.config - INFO - utils.py - Encontrados 3 CSVs em /Users/mauricioaraujo/Eng_ML/FIAP/Fase_5-MLOps/ML_Engineer_Datathon/data/challenge-webmedia-e-globo-2023/itens/itens\n",
      "2025-03-01 18:24:46,111 - src.config - INFO - utils.py - Arquivo: itens-parte2.csv, linhas: 100000, cols: 7\n",
      "2025-03-01 18:24:48,429 - src.config - INFO - utils.py - Arquivo: itens-parte3.csv, linhas: 55603, cols: 7\n",
      "2025-03-01 18:24:51,788 - src.config - INFO - utils.py - Arquivo: itens-parte1.csv, linhas: 100000, cols: 7\n",
      "2025-03-01 18:24:51,985 - src.config - INFO - utils.py - Linhas após concatenação: 255603\n"
     ]
    }
   ],
   "source": [
    "_download_resource(\"stopwords\", [\"corpora/stopwords\"])\n",
    "_download_resource(\"wordnet\", [\"corpora/wordnet\", \"corpora/wordnet.zip\"])\n",
    "_download_resource(\"omw-1.4\", [\"corpora/omw-1.4\", \"corpora/omw-1.4.zip\"])\n",
    "df = concatenate_csv_files(NEWS_DIRECTORY)\n",
    "df = df.rename(columns={\"page\": \"pageId\"})\n",
    "df = df[df[\"pageId\"].isin(selected_pageIds)]\n",
    "for col in [\"issued\", \"modified\"]:\n",
    "    df[col] = pd.to_datetime(df[col])\n",
    "    df[f\"{col}Date\"] = df[col].dt.date\n",
    "    df[f\"{col}Time\"] = df[col].dt.time\n",
    "df[\"urlExtracted\"] = df[\"url\"].apply(_extract_url_mid_section)\n",
    "df[\"local\"] = df[\"urlExtracted\"].apply(_extract_location)\n",
    "df[\"localState\"] = df[\"local\"].str.split(\"/\").str[0]\n",
    "df[\"localRegion\"] = df[\"local\"].str.split(\"/\").str[1]\n",
    "df[\"theme\"] = df[\"urlExtracted\"].apply(_extract_theme)\n",
    "df[\"themeMain\"] = df[\"theme\"].str.split(\"/\").str[0]\n",
    "df[\"themeSub\"] = df[\"theme\"].str.split(\"/\").str[1]\n",
    "df = df.drop(columns=NEWS_COLS_TO_DROP)\n",
    "\n",
    "news_df = df.copy()\n",
    "\n",
    "\n",
    "\n"
   ]
  },
  {
   "cell_type": "code",
   "execution_count": 12,
   "metadata": {},
   "outputs": [
    {
     "data": {
      "application/vnd.microsoft.datawrangler.viewer.v0+json": {
       "columns": [
        {
         "name": "index",
         "rawType": "int64",
         "type": "integer"
        },
        {
         "name": "pageId",
         "rawType": "object",
         "type": "string"
        },
        {
         "name": "issuedDate",
         "rawType": "object",
         "type": "unknown"
        },
        {
         "name": "issuedTime",
         "rawType": "object",
         "type": "unknown"
        },
        {
         "name": "modifiedDate",
         "rawType": "object",
         "type": "unknown"
        },
        {
         "name": "modifiedTime",
         "rawType": "object",
         "type": "unknown"
        },
        {
         "name": "localState",
         "rawType": "object",
         "type": "string"
        },
        {
         "name": "localRegion",
         "rawType": "object",
         "type": "string"
        },
        {
         "name": "themeMain",
         "rawType": "object",
         "type": "unknown"
        },
        {
         "name": "themeSub",
         "rawType": "object",
         "type": "unknown"
        }
       ],
       "conversionMethod": "pd.DataFrame",
       "ref": "36cae0d5-2ac7-46be-8365-f5d7e58e83f3",
       "rows": [
        [
         "8",
         "56ed4cb1-65c2-42f7-80f4-ea73f0aad59c",
         "2022-08-01",
         "17:46:54",
         "2022-08-01",
         "18:10:14",
         "ba",
         "bahia",
         null,
         null
        ],
        [
         "9",
         "d770d1f3-01cf-4545-8bd0-22ef77d37986",
         "2022-02-21",
         "08:03:26",
         "2022-02-21",
         "14:19:57",
         "ba",
         "bahia",
         null,
         null
        ],
        [
         "12",
         "6446e307-8d5f-4b92-a8ec-48b9a9faa843",
         "2020-01-21",
         "15:01:25",
         "2020-01-21",
         "18:31:37",
         "ce",
         "ceara",
         null,
         null
        ],
        [
         "14",
         "a5e207ec-4208-4e92-ac02-d37475f7000d",
         "2018-01-01",
         "13:59:46",
         "2018-01-01",
         "13:59:47",
         "df",
         "distrito-federal",
         null,
         null
        ],
        [
         "15",
         "9ef14199-0b53-40d4-8fc7-e946bf929d68",
         "2017-12-04",
         "07:00:48",
         "2017-12-04",
         "07:00:50",
         "df",
         "distrito-federal",
         null,
         null
        ]
       ],
       "shape": {
        "columns": 9,
        "rows": 5
       }
      },
      "text/html": [
       "<div>\n",
       "<style scoped>\n",
       "    .dataframe tbody tr th:only-of-type {\n",
       "        vertical-align: middle;\n",
       "    }\n",
       "\n",
       "    .dataframe tbody tr th {\n",
       "        vertical-align: top;\n",
       "    }\n",
       "\n",
       "    .dataframe thead th {\n",
       "        text-align: right;\n",
       "    }\n",
       "</style>\n",
       "<table border=\"1\" class=\"dataframe\">\n",
       "  <thead>\n",
       "    <tr style=\"text-align: right;\">\n",
       "      <th></th>\n",
       "      <th>pageId</th>\n",
       "      <th>issuedDate</th>\n",
       "      <th>issuedTime</th>\n",
       "      <th>modifiedDate</th>\n",
       "      <th>modifiedTime</th>\n",
       "      <th>localState</th>\n",
       "      <th>localRegion</th>\n",
       "      <th>themeMain</th>\n",
       "      <th>themeSub</th>\n",
       "    </tr>\n",
       "  </thead>\n",
       "  <tbody>\n",
       "    <tr>\n",
       "      <th>8</th>\n",
       "      <td>56ed4cb1-65c2-42f7-80f4-ea73f0aad59c</td>\n",
       "      <td>2022-08-01</td>\n",
       "      <td>17:46:54</td>\n",
       "      <td>2022-08-01</td>\n",
       "      <td>18:10:14</td>\n",
       "      <td>ba</td>\n",
       "      <td>bahia</td>\n",
       "      <td>None</td>\n",
       "      <td>None</td>\n",
       "    </tr>\n",
       "    <tr>\n",
       "      <th>9</th>\n",
       "      <td>d770d1f3-01cf-4545-8bd0-22ef77d37986</td>\n",
       "      <td>2022-02-21</td>\n",
       "      <td>08:03:26</td>\n",
       "      <td>2022-02-21</td>\n",
       "      <td>14:19:57</td>\n",
       "      <td>ba</td>\n",
       "      <td>bahia</td>\n",
       "      <td>None</td>\n",
       "      <td>None</td>\n",
       "    </tr>\n",
       "    <tr>\n",
       "      <th>12</th>\n",
       "      <td>6446e307-8d5f-4b92-a8ec-48b9a9faa843</td>\n",
       "      <td>2020-01-21</td>\n",
       "      <td>15:01:25</td>\n",
       "      <td>2020-01-21</td>\n",
       "      <td>18:31:37</td>\n",
       "      <td>ce</td>\n",
       "      <td>ceara</td>\n",
       "      <td>None</td>\n",
       "      <td>None</td>\n",
       "    </tr>\n",
       "    <tr>\n",
       "      <th>14</th>\n",
       "      <td>a5e207ec-4208-4e92-ac02-d37475f7000d</td>\n",
       "      <td>2018-01-01</td>\n",
       "      <td>13:59:46</td>\n",
       "      <td>2018-01-01</td>\n",
       "      <td>13:59:47</td>\n",
       "      <td>df</td>\n",
       "      <td>distrito-federal</td>\n",
       "      <td>None</td>\n",
       "      <td>None</td>\n",
       "    </tr>\n",
       "    <tr>\n",
       "      <th>15</th>\n",
       "      <td>9ef14199-0b53-40d4-8fc7-e946bf929d68</td>\n",
       "      <td>2017-12-04</td>\n",
       "      <td>07:00:48</td>\n",
       "      <td>2017-12-04</td>\n",
       "      <td>07:00:50</td>\n",
       "      <td>df</td>\n",
       "      <td>distrito-federal</td>\n",
       "      <td>None</td>\n",
       "      <td>None</td>\n",
       "    </tr>\n",
       "  </tbody>\n",
       "</table>\n",
       "</div>"
      ],
      "text/plain": [
       "                                  pageId  issuedDate issuedTime modifiedDate  \\\n",
       "8   56ed4cb1-65c2-42f7-80f4-ea73f0aad59c  2022-08-01   17:46:54   2022-08-01   \n",
       "9   d770d1f3-01cf-4545-8bd0-22ef77d37986  2022-02-21   08:03:26   2022-02-21   \n",
       "12  6446e307-8d5f-4b92-a8ec-48b9a9faa843  2020-01-21   15:01:25   2020-01-21   \n",
       "14  a5e207ec-4208-4e92-ac02-d37475f7000d  2018-01-01   13:59:46   2018-01-01   \n",
       "15  9ef14199-0b53-40d4-8fc7-e946bf929d68  2017-12-04   07:00:48   2017-12-04   \n",
       "\n",
       "   modifiedTime localState       localRegion themeMain themeSub  \n",
       "8      18:10:14         ba             bahia      None     None  \n",
       "9      14:19:57         ba             bahia      None     None  \n",
       "12     18:31:37         ce             ceara      None     None  \n",
       "14     13:59:47         df  distrito-federal      None     None  \n",
       "15     07:00:50         df  distrito-federal      None     None  "
      ]
     },
     "execution_count": 12,
     "metadata": {},
     "output_type": "execute_result"
    }
   ],
   "source": [
    "news_df.head()"
   ]
  },
  {
   "cell_type": "markdown",
   "metadata": {},
   "source": [
    "# Mix Feats"
   ]
  },
  {
   "cell_type": "code",
   "execution_count": 13,
   "metadata": {},
   "outputs": [],
   "source": [
    "# mix_dfs = _preprocess_and_save_mix_feats(DATA_PATH, news_df, users_df, storage)"
   ]
  },
  {
   "cell_type": "code",
   "execution_count": 14,
   "metadata": {},
   "outputs": [],
   "source": [
    "mix_df, gap_df, state_df, region_df, tm_df, ts_df = preprocess_mix_feats(news_df, users_df)\n",
    "dfs = {\n",
    "    \"mix_feats/mix_df.parquet\": mix_df,\n",
    "    \"mix_feats/gap_feats.parquet\": gap_df,\n",
    "    \"mix_feats/state_feats.parquet\": state_df,\n",
    "    \"mix_feats/region_feats.parquet\": region_df,\n",
    "    \"mix_feats/theme_main_feats.parquet\": tm_df,\n",
    "    \"mix_feats/theme_sub_feats.parquet\": ts_df,\n",
    "}\n",
    "for rel_file, df in dfs.items():\n",
    "    file_path = os.path.join(DATA_PATH, \"features\", rel_file)\n",
    "    # _save_df_parquet(df, file_path, storage)"
   ]
  },
  {
   "cell_type": "markdown",
   "metadata": {},
   "source": [
    "# Suggested Feats"
   ]
  },
  {
   "cell_type": "code",
   "execution_count": 15,
   "metadata": {},
   "outputs": [],
   "source": [
    "mix_dfs = mix_df, gap_df, state_df, region_df, tm_df, ts_df"
   ]
  },
  {
   "cell_type": "code",
   "execution_count": 17,
   "metadata": {},
   "outputs": [
    {
     "data": {
      "text/plain": [
       "['gap_df', 'state_df', 'region_df', 'tm_df', 'ts_df']"
      ]
     },
     "execution_count": 17,
     "metadata": {},
     "output_type": "execute_result"
    }
   ],
   "source": [
    "[\"mix_df\", \"gap_df\", \"state_df\", \"region_df\", \"tm_df\", \"ts_df\"][1:]"
   ]
  },
  {
   "cell_type": "code",
   "execution_count": 16,
   "metadata": {},
   "outputs": [
    {
     "data": {
      "text/plain": [
       "(                                                   userId  \\\n",
       " 0       00007a4e5949a3dba7c977503c53e0873643fe17d0802a...   \n",
       " 1       00014a8ad79d212f0410c3dd3260e37a093054b9d9a6a8...   \n",
       " 2       00014a8ad79d212f0410c3dd3260e37a093054b9d9a6a8...   \n",
       " 3       00014a8ad79d212f0410c3dd3260e37a093054b9d9a6a8...   \n",
       " 4       00024d84a3d619b1972e9dd5efa9c930557d85f6463fd6...   \n",
       " ...                                                   ...   \n",
       " 471537  ffee16e0d7c3fb56f17185c7e261254aff7588581adaae...   \n",
       " 471538  fff0d25554deb27c5eb4d3bc6650bfe2e7dbfdbfcd8071...   \n",
       " 471539  fff20236850ec3ad28e1cebf64e3cd5ee0b2afe46cfa89...   \n",
       " 471540  fff63afe0a59f15604fcf2634b3a39245fb3c03b768484...   \n",
       " 471541  fffbc41ebcd9f5302bbb0c79b9dd30faf7a52432c52133...   \n",
       " \n",
       "                                       pageId  timeGapDays  timeGapHours  \\\n",
       " 0       3101f64e-7048-426b-9cb6-b5a3d8ce78f3         1866  44807.727222   \n",
       " 1       c0a176b2-622f-42a4-8e5d-2a08032f8e08           78   1894.595556   \n",
       " 2       97ac6c4c-5b3d-4e36-9816-0791226573e5            0      3.089722   \n",
       " 3       ece7f38e-1744-4885-83d9-2ffb89e40b11            0      7.013611   \n",
       " 4       c274ed4b-e679-41ce-9dfb-c53874916511          337   8110.714167   \n",
       " ...                                      ...          ...           ...   \n",
       " 471537  aba3898f-4949-498b-85b6-11163ea0ea9b           71   1704.908889   \n",
       " 471538  39beebfc-9d3f-4532-9ef6-54c7d6542160          111   2681.899444   \n",
       " 471539  8b896d5c-cb50-41a0-ad5b-5cff5a58031a          472  11336.353333   \n",
       " 471540  81676764-2e95-4411-b0be-86ecf9905303           19    463.315556   \n",
       " 471541  b25ba13e-c782-44b7-864f-4b3bc11839a6         1260  30248.476667   \n",
       " \n",
       "         timeGapMinutes  timeGapLessThanOneDay  \n",
       " 0         2.688464e+06                  False  \n",
       " 1         1.136757e+05                  False  \n",
       " 2         1.853833e+02                   True  \n",
       " 3         4.208167e+02                   True  \n",
       " 4         4.866428e+05                  False  \n",
       " ...                ...                    ...  \n",
       " 471537    1.022945e+05                  False  \n",
       " 471538    1.609140e+05                  False  \n",
       " 471539    6.801812e+05                  False  \n",
       " 471540    2.779893e+04                  False  \n",
       " 471541    1.814909e+06                  False  \n",
       " \n",
       " [471542 rows x 6 columns],\n",
       "                                                    userId localState  \\\n",
       " 0       00014a8ad79d212f0410c3dd3260e37a093054b9d9a6a8...         sp   \n",
       " 1       00014a8ad79d212f0410c3dd3260e37a093054b9d9a6a8...         mg   \n",
       " 2       00024d84a3d619b1972e9dd5efa9c930557d85f6463fd6...         pr   \n",
       " 3       0003f534fe8124d98eef78b01baa3b69e3ffcda6e5a657...         ce   \n",
       " 4       0003f534fe8124d98eef78b01baa3b69e3ffcda6e5a657...         sp   \n",
       " ...                                                   ...        ...   \n",
       " 510285  ffec45ed826ca0416eacd8b8578a985993f3bdd08c127a...         sc   \n",
       " 510286  ffec45ed826ca0416eacd8b8578a985993f3bdd08c127a...         rj   \n",
       " 510287  ffee16e0d7c3fb56f17185c7e261254aff7588581adaae...         sp   \n",
       " 510288  fff0d25554deb27c5eb4d3bc6650bfe2e7dbfdbfcd8071...         ms   \n",
       " 510289  fff63afe0a59f15604fcf2634b3a39245fb3c03b768484...         rj   \n",
       " \n",
       "         countLocalStateUser  relLocalState  \n",
       " 0                       1.0       0.333333  \n",
       " 1                       1.0       0.333333  \n",
       " 2                       1.0       1.000000  \n",
       " 3                       3.0       0.500000  \n",
       " 4                       1.0       0.166667  \n",
       " ...                     ...            ...  \n",
       " 510285                  1.0       0.500000  \n",
       " 510286                  1.0       0.500000  \n",
       " 510287                  1.0       1.000000  \n",
       " 510288                  1.0       1.000000  \n",
       " 510289                  1.0       1.000000  \n",
       " \n",
       " [144823 rows x 4 columns],\n",
       "                                                    userId         localRegion  \\\n",
       " 0       00014a8ad79d212f0410c3dd3260e37a093054b9d9a6a8...     campinas-regiao   \n",
       " 1       00014a8ad79d212f0410c3dd3260e37a093054b9d9a6a8...        minas-gerais   \n",
       " 2       00024d84a3d619b1972e9dd5efa9c930557d85f6463fd6...      norte-noroeste   \n",
       " 3       0003f534fe8124d98eef78b01baa3b69e3ffcda6e5a657...               ceara   \n",
       " 4       0003f534fe8124d98eef78b01baa3b69e3ffcda6e5a657...           sao-paulo   \n",
       " ...                                                   ...                 ...   \n",
       " 510285  ffec45ed826ca0416eacd8b8578a985993f3bdd08c127a...      santa-catarina   \n",
       " 510286  ffec45ed826ca0416eacd8b8578a985993f3bdd08c127a...      rio-de-janeiro   \n",
       " 510287  ffee16e0d7c3fb56f17185c7e261254aff7588581adaae...           sao-paulo   \n",
       " 510288  fff0d25554deb27c5eb4d3bc6650bfe2e7dbfdbfcd8071...  mato-grosso-do-sul   \n",
       " 510289  fff63afe0a59f15604fcf2634b3a39245fb3c03b768484...      rio-de-janeiro   \n",
       " \n",
       "         countLocalRegionUser  relLocalRegion  \n",
       " 0                        1.0        0.333333  \n",
       " 1                        1.0        0.333333  \n",
       " 2                        1.0        1.000000  \n",
       " 3                        3.0        0.500000  \n",
       " 4                        1.0        0.166667  \n",
       " ...                      ...             ...  \n",
       " 510285                   1.0        0.500000  \n",
       " 510286                   1.0        0.500000  \n",
       " 510287                   1.0        1.000000  \n",
       " 510288                   1.0        1.000000  \n",
       " 510289                   1.0        1.000000  \n",
       " \n",
       " [186830 rows x 4 columns],\n",
       "                                                    userId       themeMain  \\\n",
       " 0       00007a4e5949a3dba7c977503c53e0873643fe17d0802a...        economia   \n",
       " 1       00014a8ad79d212f0410c3dd3260e37a093054b9d9a6a8...  terra-da-gente   \n",
       " 2       00014a8ad79d212f0410c3dd3260e37a093054b9d9a6a8...   meio-ambiente   \n",
       " 3       0003f534fe8124d98eef78b01baa3b69e3ffcda6e5a657...        eleicoes   \n",
       " 5       00061025222fb1d2f9861cae9d91aa71aaaae57c460b87...           mundo   \n",
       " ...                                                   ...             ...   \n",
       " 297075  ffebbb3656d293760370e3f8e1cd36ff94a52d94018339...           saude   \n",
       " 297078  ffebbb3656d293760370e3f8e1cd36ff94a52d94018339...        politica   \n",
       " 297089  ffee16e0d7c3fb56f17185c7e261254aff7588581adaae...        carnaval   \n",
       " 297090  fff20236850ec3ad28e1cebf64e3cd5ee0b2afe46cfa89...        economia   \n",
       " 297091  fffbc41ebcd9f5302bbb0c79b9dd30faf7a52432c52133...        educacao   \n",
       " \n",
       "         countThemeMainUser  relThemeMain  \n",
       " 0                      1.0      1.000000  \n",
       " 1                      1.0      0.333333  \n",
       " 2                      1.0      0.333333  \n",
       " 3                      2.0      0.333333  \n",
       " 5                      4.0      0.363636  \n",
       " ...                    ...           ...  \n",
       " 297075                 8.0      0.296296  \n",
       " 297078                 6.0      0.222222  \n",
       " 297089                 1.0      1.000000  \n",
       " 297090                 1.0      1.000000  \n",
       " 297091                 1.0      1.000000  \n",
       " \n",
       " [116169 rows x 4 columns],\n",
       "                                                   userId          themeSub  \\\n",
       " 0      0003f534fe8124d98eef78b01baa3b69e3ffcda6e5a657...              2022   \n",
       " 2      00061025222fb1d2f9861cae9d91aa71aaaae57c460b87...          eleicoes   \n",
       " 4      0006ea19bc2de7e755b09f3a5a8f8d677f0860e4b8f64e...       coronavirus   \n",
       " 5      000a2a60d1b7655d40beb4042e0610cc8cd4c2e8a51300...              pets   \n",
       " 6      000a2a60d1b7655d40beb4042e0610cc8cd4c2e8a51300...          eleicoes   \n",
       " ...                                                  ...               ...   \n",
       " 82226  ffebbb3656d293760370e3f8e1cd36ff94a52d94018339...            vacina   \n",
       " 82227  ffebbb3656d293760370e3f8e1cd36ff94a52d94018339...       coronavirus   \n",
       " 82231  ffee16e0d7c3fb56f17185c7e261254aff7588581adaae...              2022   \n",
       " 82232  fff20236850ec3ad28e1cebf64e3cd5ee0b2afe46cfa89...  imposto-de-renda   \n",
       " 82233  fffbc41ebcd9f5302bbb0c79b9dd30faf7a52432c52133...              enem   \n",
       " \n",
       "        countThemeSubUser  relThemeSub  \n",
       " 0                    2.0     0.333333  \n",
       " 2                    2.0     0.181818  \n",
       " 4                    1.0     0.500000  \n",
       " 5                    1.0     0.004651  \n",
       " 6                    3.0     0.013953  \n",
       " ...                  ...          ...  \n",
       " 82226                1.0     0.037037  \n",
       " 82227                1.0     0.037037  \n",
       " 82231                1.0     1.000000  \n",
       " 82232                1.0     1.000000  \n",
       " 82233                1.0     1.000000  \n",
       " \n",
       " [45781 rows x 4 columns])"
      ]
     },
     "execution_count": 16,
     "metadata": {},
     "output_type": "execute_result"
    }
   ],
   "source": [
    "mix_dfs[1:]"
   ]
  },
  {
   "cell_type": "code",
   "execution_count": null,
   "metadata": {},
   "outputs": [],
   "source": [
    "\n",
    "suggested = _assemble_and_save_suggested_feats(DATA_PATH, *mix_dfs[1:], storage)\n",
    "target_df = _preprocess_and_save_target(DATA_PATH, users_df, mix_dfs[1], storage)\n",
    "_assemble_and_save_final_feats(DATA_PATH, suggested, target_df, storage)\n",
    "logger.info(\"Pipeline concluído com sucesso!\")"
   ]
  }
 ],
 "metadata": {
  "kernelspec": {
   "display_name": "datathon",
   "language": "python",
   "name": "python3"
  },
  "language_info": {
   "codemirror_mode": {
    "name": "ipython",
    "version": 3
   },
   "file_extension": ".py",
   "mimetype": "text/x-python",
   "name": "python",
   "nbconvert_exporter": "python",
   "pygments_lexer": "ipython3",
   "version": "3.9.21"
  }
 },
 "nbformat": 4,
 "nbformat_minor": 2
}
