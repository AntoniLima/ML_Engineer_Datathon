{
 "cells": [
  {
   "cell_type": "code",
   "execution_count": 1,
   "metadata": {},
   "outputs": [
    {
     "name": "stderr",
     "output_type": "stream",
     "text": [
      "2025-03-02 10:32:53,299 - src.config - INFO - config.py - Ambiente: prod\n",
      "2025-03-02 10:32:53,324 - config - INFO - config.py - Ambiente: prod\n"
     ]
    }
   ],
   "source": [
    "\n",
    "import os\n",
    "import sys\n",
    "import pandas as pd\n",
    "import mlflow\n",
    "\n",
    "# Adiciona o diretório src ao PYTHONPATH\n",
    "project_dir = os.path.abspath(os.path.join(os.getcwd(), '../../../'))\n",
    "if project_dir not in sys.path:\n",
    "    sys.path.append(project_dir)\n",
    "\n",
    "from src.config import (\n",
    "    get_config,\n",
    "    get_data_path,\n",
    "    configure_mlflow,\n",
    "    CONFIG,\n",
    "    logger,\n",
    "    USE_S3,\n",
    "    DATA_PATH,\n",
    "    SAMPLE_RATE,\n",
    "    COLD_START_THRESHOLD\n",
    ")\n",
    "from src.features.constants import USERS_COLS_TO_EXPLODE, USERS_DTYPES, NEWS_COLS_TO_DROP\n",
    "from storage.io import Storage\n",
    "from src.features.utils import concatenate_csv_files\n",
    "\n",
    "from src.train.utils import prepare_features, load_train_data\n",
    "from src.train.core import (\n",
    "    log_model_to_mlflow,\n",
    "    log_encoder_mapping,\n",
    ")\n",
    "from src.train.pipeline import (\n",
    "    load_features,\n",
    "    prepare_and_save_train_data,\n",
    "    validate_and_load_train_data,\n",
    "    train_and_log_model\n",
    ")\n",
    "\n"
   ]
  },
  {
   "cell_type": "code",
   "execution_count": null,
   "metadata": {},
   "outputs": [],
   "source": []
  }
 ],
 "metadata": {
  "kernelspec": {
   "display_name": "datathon",
   "language": "python",
   "name": "python3"
  },
  "language_info": {
   "codemirror_mode": {
    "name": "ipython",
    "version": 3
   },
   "file_extension": ".py",
   "mimetype": "text/x-python",
   "name": "python",
   "nbconvert_exporter": "python",
   "pygments_lexer": "ipython3",
   "version": "3.9.21"
  }
 },
 "nbformat": 4,
 "nbformat_minor": 2
}
