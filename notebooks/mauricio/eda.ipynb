{
 "cells": [
  {
   "cell_type": "code",
   "execution_count": 70,
   "metadata": {},
   "outputs": [],
   "source": [
    "import pandas as pd\n",
    "import glob\n",
    "from typing import List\n",
    "from matplotlib import pyplot as plt\n",
    "from utils.clean_data import load_csv_files, clean_train_data, clean_items_data"
   ]
  },
  {
   "cell_type": "markdown",
   "metadata": {},
   "source": [
    "## Loading data"
   ]
  },
  {
   "cell_type": "code",
   "execution_count": 30,
   "metadata": {},
   "outputs": [],
   "source": [
    "treino_dir = \"./data/treino/\"\n",
    "itens_dir = \"./data/itens/\"\n",
    "\n",
    "# Carregar dados\n",
    "treino_files = glob.glob(f\"{treino_dir}/*.csv\")\n",
    "itens_files = glob.glob(f\"{itens_dir}/*.csv\")\n",
    "\n",
    "# Carregar os dados\n",
    "df_treino_raw = load_csv_files(treino_files)\n",
    "df_itens_raw = load_csv_files(itens_files)"
   ]
  },
  {
   "cell_type": "code",
   "execution_count": 46,
   "metadata": {},
   "outputs": [],
   "source": [
    "df_treino = df_treino_raw.copy()\n",
    "df_itens = df_itens_raw.copy()"
   ]
  },
  {
   "cell_type": "markdown",
   "metadata": {},
   "source": [
    "## Analise Inicial - Dados de Treino"
   ]
  },
  {
   "cell_type": "code",
   "execution_count": 33,
   "metadata": {},
   "outputs": [
    {
     "data": {
      "text/plain": [
       "True    577942\n",
       "Name: count, dtype: int64"
      ]
     },
     "execution_count": 33,
     "metadata": {},
     "output_type": "execute_result"
    }
   ],
   "source": [
    "# A columa timestasmpHistory_new pode ser removida já que é igual a timestampHistory\n",
    "(df_treino[\"timestampHistory\"] == df_treino[\"timestampHistory_new\"]).value_counts()"
   ]
  },
  {
   "cell_type": "code",
   "execution_count": 40,
   "metadata": {},
   "outputs": [],
   "source": [
    "df_treino = df_treino.drop(columns=[\"timestampHistory_new\"])"
   ]
  },
  {
   "cell_type": "code",
   "execution_count": 35,
   "metadata": {},
   "outputs": [
    {
     "data": {
      "text/html": [
       "<div>\n",
       "<style scoped>\n",
       "    .dataframe tbody tr th:only-of-type {\n",
       "        vertical-align: middle;\n",
       "    }\n",
       "\n",
       "    .dataframe tbody tr th {\n",
       "        vertical-align: top;\n",
       "    }\n",
       "\n",
       "    .dataframe thead th {\n",
       "        text-align: right;\n",
       "    }\n",
       "</style>\n",
       "<table border=\"1\" class=\"dataframe\">\n",
       "  <thead>\n",
       "    <tr style=\"text-align: right;\">\n",
       "      <th></th>\n",
       "      <th>userId</th>\n",
       "      <th>count</th>\n",
       "    </tr>\n",
       "  </thead>\n",
       "  <tbody>\n",
       "  </tbody>\n",
       "</table>\n",
       "</div>"
      ],
      "text/plain": [
       "Empty DataFrame\n",
       "Columns: [userId, count]\n",
       "Index: []"
      ]
     },
     "execution_count": 35,
     "metadata": {},
     "output_type": "execute_result"
    }
   ],
   "source": [
    "# checando se ha userId duplicados\n",
    "(\n",
    "    df_treino.groupby(\"userId\")\n",
    "    .size()\n",
    "    .reset_index(name=\"count\")\n",
    "    .query(\"count > 1\")\n",
    ")\n",
    "\n",
    "# podemos perceber que eh uma linha por usuario"
   ]
  },
  {
   "cell_type": "code",
   "execution_count": 36,
   "metadata": {},
   "outputs": [
    {
     "data": {
      "text/html": [
       "<div>\n",
       "<style scoped>\n",
       "    .dataframe tbody tr th:only-of-type {\n",
       "        vertical-align: middle;\n",
       "    }\n",
       "\n",
       "    .dataframe tbody tr th {\n",
       "        vertical-align: top;\n",
       "    }\n",
       "\n",
       "    .dataframe thead th {\n",
       "        text-align: right;\n",
       "    }\n",
       "</style>\n",
       "<table border=\"1\" class=\"dataframe\">\n",
       "  <thead>\n",
       "    <tr style=\"text-align: right;\">\n",
       "      <th></th>\n",
       "      <th>userId</th>\n",
       "      <th>userType</th>\n",
       "      <th>historySize</th>\n",
       "      <th>history</th>\n",
       "      <th>timestampHistory</th>\n",
       "      <th>numberOfClicksHistory</th>\n",
       "      <th>timeOnPageHistory</th>\n",
       "      <th>scrollPercentageHistory</th>\n",
       "      <th>pageVisitsCountHistory</th>\n",
       "    </tr>\n",
       "  </thead>\n",
       "  <tbody>\n",
       "    <tr>\n",
       "      <th>169</th>\n",
       "      <td>767c0162d43e7b3efafaa89360473992e56d830fd5cb26...</td>\n",
       "      <td>Non-Logged</td>\n",
       "      <td>1</td>\n",
       "      <td>5165b7b8-3988-486d-82ca-e1fff3c1b500</td>\n",
       "      <td>1659749500890</td>\n",
       "      <td>10</td>\n",
       "      <td>20148</td>\n",
       "      <td>69.73</td>\n",
       "      <td>2</td>\n",
       "    </tr>\n",
       "    <tr>\n",
       "      <th>0</th>\n",
       "      <td>fbb963d61eb8149e7f43b1bd905457ba5e106a830ddc27...</td>\n",
       "      <td>Non-Logged</td>\n",
       "      <td>2</td>\n",
       "      <td>80aa7bb2-adce-4a55-9711-912c407927a1, d9e5f15d...</td>\n",
       "      <td>1657908085200, 1659634203762</td>\n",
       "      <td>0, 0</td>\n",
       "      <td>71998, 115232</td>\n",
       "      <td>81.58, 73.36</td>\n",
       "      <td>1, 1</td>\n",
       "    </tr>\n",
       "    <tr>\n",
       "      <th>30</th>\n",
       "      <td>9ad920cb19f5142def60e856579610af12abaabfe08813...</td>\n",
       "      <td>Non-Logged</td>\n",
       "      <td>3</td>\n",
       "      <td>73151e02-dd2a-4509-968e-b9c16ec1c5db, f2b3cd5d...</td>\n",
       "      <td>1658851324730, 1658851359552, 1658851419499</td>\n",
       "      <td>2, 16, 17</td>\n",
       "      <td>10000, 53232, 110000</td>\n",
       "      <td>19.5, 56.63, 83.96</td>\n",
       "      <td>1, 1, 1</td>\n",
       "    </tr>\n",
       "    <tr>\n",
       "      <th>78</th>\n",
       "      <td>7c2a0de4067411bcd923e146aeb7b69c41a94233a92eea...</td>\n",
       "      <td>Non-Logged</td>\n",
       "      <td>4</td>\n",
       "      <td>04a6688f-bb07-4dfa-a1bb-432bf540f841, 39155663...</td>\n",
       "      <td>1656678533987, 1656939283245, 1656947131035, 1...</td>\n",
       "      <td>0, 0, 0, 0</td>\n",
       "      <td>10951, 10000, 7473, 64073</td>\n",
       "      <td>12.43, 17.66, 56.48, 51.99</td>\n",
       "      <td>1, 1, 1, 1</td>\n",
       "    </tr>\n",
       "    <tr>\n",
       "      <th>115</th>\n",
       "      <td>2ee29c3b488675d9cb0bf7ec3628b3c2965bc532180334...</td>\n",
       "      <td>Non-Logged</td>\n",
       "      <td>5</td>\n",
       "      <td>c44af7c6-88e9-4ce2-81d6-7b8adc4e085b, 0906fe9c...</td>\n",
       "      <td>1659150541589, 1659454851970, 1659454935119, 1...</td>\n",
       "      <td>13, 11, 10, 6, 11</td>\n",
       "      <td>47348, 39297, 42652, 21185, 63258</td>\n",
       "      <td>33.36, 36.28, 30.04, 33.0, 36.22</td>\n",
       "      <td>1, 1, 1, 1, 1</td>\n",
       "    </tr>\n",
       "  </tbody>\n",
       "</table>\n",
       "</div>"
      ],
      "text/plain": [
       "                                                userId    userType  \\\n",
       "169  767c0162d43e7b3efafaa89360473992e56d830fd5cb26...  Non-Logged   \n",
       "0    fbb963d61eb8149e7f43b1bd905457ba5e106a830ddc27...  Non-Logged   \n",
       "30   9ad920cb19f5142def60e856579610af12abaabfe08813...  Non-Logged   \n",
       "78   7c2a0de4067411bcd923e146aeb7b69c41a94233a92eea...  Non-Logged   \n",
       "115  2ee29c3b488675d9cb0bf7ec3628b3c2965bc532180334...  Non-Logged   \n",
       "\n",
       "     historySize                                            history  \\\n",
       "169            1               5165b7b8-3988-486d-82ca-e1fff3c1b500   \n",
       "0              2  80aa7bb2-adce-4a55-9711-912c407927a1, d9e5f15d...   \n",
       "30             3  73151e02-dd2a-4509-968e-b9c16ec1c5db, f2b3cd5d...   \n",
       "78             4  04a6688f-bb07-4dfa-a1bb-432bf540f841, 39155663...   \n",
       "115            5  c44af7c6-88e9-4ce2-81d6-7b8adc4e085b, 0906fe9c...   \n",
       "\n",
       "                                      timestampHistory numberOfClicksHistory  \\\n",
       "169                                      1659749500890                    10   \n",
       "0                         1657908085200, 1659634203762                  0, 0   \n",
       "30         1658851324730, 1658851359552, 1658851419499             2, 16, 17   \n",
       "78   1656678533987, 1656939283245, 1656947131035, 1...            0, 0, 0, 0   \n",
       "115  1659150541589, 1659454851970, 1659454935119, 1...     13, 11, 10, 6, 11   \n",
       "\n",
       "                     timeOnPageHistory           scrollPercentageHistory  \\\n",
       "169                              20148                             69.73   \n",
       "0                        71998, 115232                      81.58, 73.36   \n",
       "30                10000, 53232, 110000                19.5, 56.63, 83.96   \n",
       "78           10951, 10000, 7473, 64073        12.43, 17.66, 56.48, 51.99   \n",
       "115  47348, 39297, 42652, 21185, 63258  33.36, 36.28, 30.04, 33.0, 36.22   \n",
       "\n",
       "    pageVisitsCountHistory  \n",
       "169                      2  \n",
       "0                     1, 1  \n",
       "30                 1, 1, 1  \n",
       "78              1, 1, 1, 1  \n",
       "115          1, 1, 1, 1, 1  "
      ]
     },
     "execution_count": 36,
     "metadata": {},
     "output_type": "execute_result"
    }
   ],
   "source": [
    "# E para cada usuario existem quantidades diferentes de noticias consumidas\n",
    "df_treino.groupby(\"historySize\").head(1).sort_values(\"historySize\").head(5)"
   ]
  },
  {
   "cell_type": "code",
   "execution_count": 26,
   "metadata": {},
   "outputs": [
    {
     "data": {
      "text/html": [
       "<div>\n",
       "<style scoped>\n",
       "    .dataframe tbody tr th:only-of-type {\n",
       "        vertical-align: middle;\n",
       "    }\n",
       "\n",
       "    .dataframe tbody tr th {\n",
       "        vertical-align: top;\n",
       "    }\n",
       "\n",
       "    .dataframe thead th {\n",
       "        text-align: right;\n",
       "    }\n",
       "</style>\n",
       "<table border=\"1\" class=\"dataframe\">\n",
       "  <thead>\n",
       "    <tr style=\"text-align: right;\">\n",
       "      <th></th>\n",
       "      <th>userId</th>\n",
       "      <th>userType</th>\n",
       "      <th>historySize</th>\n",
       "      <th>history</th>\n",
       "      <th>timestampHistory</th>\n",
       "      <th>numberOfClicksHistory</th>\n",
       "      <th>timeOnPageHistory</th>\n",
       "      <th>scrollPercentageHistory</th>\n",
       "      <th>pageVisitsCountHistory</th>\n",
       "    </tr>\n",
       "  </thead>\n",
       "  <tbody>\n",
       "    <tr>\n",
       "      <th>0</th>\n",
       "      <td>fbb963d61eb8149e7f43b1bd905457ba5e106a830ddc27...</td>\n",
       "      <td>Non-Logged</td>\n",
       "      <td>2</td>\n",
       "      <td>80aa7bb2-adce-4a55-9711-912c407927a1, d9e5f15d...</td>\n",
       "      <td>1657908085200, 1659634203762</td>\n",
       "      <td>0, 0</td>\n",
       "      <td>71998, 115232</td>\n",
       "      <td>81.58, 73.36</td>\n",
       "      <td>1, 1</td>\n",
       "    </tr>\n",
       "    <tr>\n",
       "      <th>1</th>\n",
       "      <td>17f1083e6079b0f28f7820a6803583d1c1b405c0718b11...</td>\n",
       "      <td>Non-Logged</td>\n",
       "      <td>2</td>\n",
       "      <td>19ba89fc-1e06-4c5d-9c57-4a3088dc0511, e273dba4...</td>\n",
       "      <td>1657111508570, 1657481309920</td>\n",
       "      <td>68, 12</td>\n",
       "      <td>131495, 43733</td>\n",
       "      <td>51.74, 35.49</td>\n",
       "      <td>1, 1</td>\n",
       "    </tr>\n",
       "    <tr>\n",
       "      <th>2</th>\n",
       "      <td>528a8d7a2af73101da8d6709c1ec875b449a5a58749a99...</td>\n",
       "      <td>Non-Logged</td>\n",
       "      <td>2</td>\n",
       "      <td>59a61a8a-cc52-453f-b1cd-2bd019e9d574, a0562805...</td>\n",
       "      <td>1657823890328, 1660141444328</td>\n",
       "      <td>55, 9</td>\n",
       "      <td>159042, 10336</td>\n",
       "      <td>62.19, 48.28</td>\n",
       "      <td>1, 1</td>\n",
       "    </tr>\n",
       "    <tr>\n",
       "      <th>3</th>\n",
       "      <td>2dd18b58a634a4e77181a202cf152df6169dfb3e4230ef...</td>\n",
       "      <td>Non-Logged</td>\n",
       "      <td>2</td>\n",
       "      <td>233f8238-2ce0-470f-a9d5-0e0ac530382a, 037155f4...</td>\n",
       "      <td>1656963373076, 1657091888917</td>\n",
       "      <td>0, 0</td>\n",
       "      <td>193579, 20519</td>\n",
       "      <td>31.03, 31.9</td>\n",
       "      <td>1, 1</td>\n",
       "    </tr>\n",
       "    <tr>\n",
       "      <th>4</th>\n",
       "      <td>97e1439d485b0630e12818d3df84ff67d08475ef6ebeb0...</td>\n",
       "      <td>Logged</td>\n",
       "      <td>2</td>\n",
       "      <td>385044ad-3876-4188-83fa-f560435c1a9c, 2f754502...</td>\n",
       "      <td>1657618607633, 1659536839832</td>\n",
       "      <td>57, 38</td>\n",
       "      <td>220000, 130000</td>\n",
       "      <td>52.65, 53.37</td>\n",
       "      <td>1, 1</td>\n",
       "    </tr>\n",
       "  </tbody>\n",
       "</table>\n",
       "</div>"
      ],
      "text/plain": [
       "                                              userId    userType  historySize  \\\n",
       "0  fbb963d61eb8149e7f43b1bd905457ba5e106a830ddc27...  Non-Logged            2   \n",
       "1  17f1083e6079b0f28f7820a6803583d1c1b405c0718b11...  Non-Logged            2   \n",
       "2  528a8d7a2af73101da8d6709c1ec875b449a5a58749a99...  Non-Logged            2   \n",
       "3  2dd18b58a634a4e77181a202cf152df6169dfb3e4230ef...  Non-Logged            2   \n",
       "4  97e1439d485b0630e12818d3df84ff67d08475ef6ebeb0...      Logged            2   \n",
       "\n",
       "                                             history  \\\n",
       "0  80aa7bb2-adce-4a55-9711-912c407927a1, d9e5f15d...   \n",
       "1  19ba89fc-1e06-4c5d-9c57-4a3088dc0511, e273dba4...   \n",
       "2  59a61a8a-cc52-453f-b1cd-2bd019e9d574, a0562805...   \n",
       "3  233f8238-2ce0-470f-a9d5-0e0ac530382a, 037155f4...   \n",
       "4  385044ad-3876-4188-83fa-f560435c1a9c, 2f754502...   \n",
       "\n",
       "               timestampHistory numberOfClicksHistory timeOnPageHistory  \\\n",
       "0  1657908085200, 1659634203762                  0, 0     71998, 115232   \n",
       "1  1657111508570, 1657481309920                68, 12     131495, 43733   \n",
       "2  1657823890328, 1660141444328                 55, 9     159042, 10336   \n",
       "3  1656963373076, 1657091888917                  0, 0     193579, 20519   \n",
       "4  1657618607633, 1659536839832                57, 38    220000, 130000   \n",
       "\n",
       "  scrollPercentageHistory pageVisitsCountHistory  \n",
       "0            81.58, 73.36                   1, 1  \n",
       "1            51.74, 35.49                   1, 1  \n",
       "2            62.19, 48.28                   1, 1  \n",
       "3             31.03, 31.9                   1, 1  \n",
       "4            52.65, 53.37                   1, 1  "
      ]
     },
     "execution_count": 26,
     "metadata": {},
     "output_type": "execute_result"
    }
   ],
   "source": [
    "df_treino.head()"
   ]
  },
  {
   "cell_type": "code",
   "execution_count": 42,
   "metadata": {},
   "outputs": [
    {
     "data": {
      "text/plain": [
       "'fbb963d61eb8149e7f43b1bd905457ba5e106a830ddc27288434101e7252ef57'"
      ]
     },
     "execution_count": 42,
     "metadata": {},
     "output_type": "execute_result"
    }
   ],
   "source": [
    "target_user_id = df_treino[\"userId\"].iloc[0]\n",
    "target_user_id"
   ]
  },
  {
   "cell_type": "code",
   "execution_count": 51,
   "metadata": {},
   "outputs": [
    {
     "data": {
      "text/html": [
       "<div>\n",
       "<style scoped>\n",
       "    .dataframe tbody tr th:only-of-type {\n",
       "        vertical-align: middle;\n",
       "    }\n",
       "\n",
       "    .dataframe tbody tr th {\n",
       "        vertical-align: top;\n",
       "    }\n",
       "\n",
       "    .dataframe thead th {\n",
       "        text-align: right;\n",
       "    }\n",
       "</style>\n",
       "<table border=\"1\" class=\"dataframe\">\n",
       "  <thead>\n",
       "    <tr style=\"text-align: right;\">\n",
       "      <th></th>\n",
       "      <th>userId</th>\n",
       "      <th>userType</th>\n",
       "      <th>historySize</th>\n",
       "      <th>history</th>\n",
       "      <th>timestampHistory</th>\n",
       "      <th>numberOfClicksHistory</th>\n",
       "      <th>timeOnPageHistory</th>\n",
       "      <th>scrollPercentageHistory</th>\n",
       "      <th>pageVisitsCountHistory</th>\n",
       "      <th>timestampHistory_new</th>\n",
       "    </tr>\n",
       "  </thead>\n",
       "  <tbody>\n",
       "    <tr>\n",
       "      <th>0</th>\n",
       "      <td>fbb963d61eb8149e7f43b1bd905457ba5e106a830ddc27...</td>\n",
       "      <td>Non-Logged</td>\n",
       "      <td>2</td>\n",
       "      <td>80aa7bb2-adce-4a55-9711-912c407927a1, d9e5f15d...</td>\n",
       "      <td>1657908085200, 1659634203762</td>\n",
       "      <td>0, 0</td>\n",
       "      <td>71998, 115232</td>\n",
       "      <td>81.58, 73.36</td>\n",
       "      <td>1, 1</td>\n",
       "      <td>1657908085200, 1659634203762</td>\n",
       "    </tr>\n",
       "  </tbody>\n",
       "</table>\n",
       "</div>"
      ],
      "text/plain": [
       "                                              userId    userType  historySize  \\\n",
       "0  fbb963d61eb8149e7f43b1bd905457ba5e106a830ddc27...  Non-Logged            2   \n",
       "\n",
       "                                             history  \\\n",
       "0  80aa7bb2-adce-4a55-9711-912c407927a1, d9e5f15d...   \n",
       "\n",
       "               timestampHistory numberOfClicksHistory timeOnPageHistory  \\\n",
       "0  1657908085200, 1659634203762                  0, 0     71998, 115232   \n",
       "\n",
       "  scrollPercentageHistory pageVisitsCountHistory          timestampHistory_new  \n",
       "0            81.58, 73.36                   1, 1  1657908085200, 1659634203762  "
      ]
     },
     "execution_count": 51,
     "metadata": {},
     "output_type": "execute_result"
    }
   ],
   "source": [
    "df_treino.query(\"userId == @target_user_id\")"
   ]
  },
  {
   "cell_type": "code",
   "execution_count": 50,
   "metadata": {},
   "outputs": [],
   "source": [
    "df_exploded = clean_train_data(df_treino)"
   ]
  },
  {
   "cell_type": "code",
   "execution_count": 52,
   "metadata": {},
   "outputs": [
    {
     "data": {
      "text/html": [
       "<div>\n",
       "<style scoped>\n",
       "    .dataframe tbody tr th:only-of-type {\n",
       "        vertical-align: middle;\n",
       "    }\n",
       "\n",
       "    .dataframe tbody tr th {\n",
       "        vertical-align: top;\n",
       "    }\n",
       "\n",
       "    .dataframe thead th {\n",
       "        text-align: right;\n",
       "    }\n",
       "</style>\n",
       "<table border=\"1\" class=\"dataframe\">\n",
       "  <thead>\n",
       "    <tr style=\"text-align: right;\">\n",
       "      <th></th>\n",
       "      <th>userId</th>\n",
       "      <th>userType</th>\n",
       "      <th>historySize</th>\n",
       "      <th>historyId</th>\n",
       "      <th>timestampHistory</th>\n",
       "      <th>numberOfClicksHistory</th>\n",
       "      <th>timeOnPageHistory</th>\n",
       "      <th>scrollPercentageHistory</th>\n",
       "      <th>pageVisitsCountHistory</th>\n",
       "    </tr>\n",
       "  </thead>\n",
       "  <tbody>\n",
       "    <tr>\n",
       "      <th>0</th>\n",
       "      <td>fbb963d61eb8149e7f43b1bd905457ba5e106a830ddc27...</td>\n",
       "      <td>Non-Logged</td>\n",
       "      <td>2</td>\n",
       "      <td>80aa7bb2-adce-4a55-9711-912c407927a1</td>\n",
       "      <td>2022-07-15 18:01:25.200</td>\n",
       "      <td>0</td>\n",
       "      <td>71998</td>\n",
       "      <td>81.58</td>\n",
       "      <td>1</td>\n",
       "    </tr>\n",
       "    <tr>\n",
       "      <th>1</th>\n",
       "      <td>fbb963d61eb8149e7f43b1bd905457ba5e106a830ddc27...</td>\n",
       "      <td>Non-Logged</td>\n",
       "      <td>2</td>\n",
       "      <td>d9e5f15d-b441-4d8b-bee4-462b106d3916</td>\n",
       "      <td>2022-08-04 17:30:03.762</td>\n",
       "      <td>0</td>\n",
       "      <td>115232</td>\n",
       "      <td>73.36</td>\n",
       "      <td>1</td>\n",
       "    </tr>\n",
       "  </tbody>\n",
       "</table>\n",
       "</div>"
      ],
      "text/plain": [
       "                                              userId    userType  historySize  \\\n",
       "0  fbb963d61eb8149e7f43b1bd905457ba5e106a830ddc27...  Non-Logged            2   \n",
       "1  fbb963d61eb8149e7f43b1bd905457ba5e106a830ddc27...  Non-Logged            2   \n",
       "\n",
       "                              historyId        timestampHistory  \\\n",
       "0  80aa7bb2-adce-4a55-9711-912c407927a1 2022-07-15 18:01:25.200   \n",
       "1  d9e5f15d-b441-4d8b-bee4-462b106d3916 2022-08-04 17:30:03.762   \n",
       "\n",
       "   numberOfClicksHistory  timeOnPageHistory  scrollPercentageHistory  \\\n",
       "0                      0              71998                    81.58   \n",
       "1                      0             115232                    73.36   \n",
       "\n",
       "   pageVisitsCountHistory  \n",
       "0                       1  \n",
       "1                       1  "
      ]
     },
     "execution_count": 52,
     "metadata": {},
     "output_type": "execute_result"
    }
   ],
   "source": [
    "df_exploded.query(\"userId == @target_user_id\")"
   ]
  },
  {
   "cell_type": "code",
   "execution_count": 53,
   "metadata": {},
   "outputs": [
    {
     "name": "stdout",
     "output_type": "stream",
     "text": [
      "<class 'pandas.core.frame.DataFrame'>\n",
      "RangeIndex: 8123951 entries, 0 to 8123950\n",
      "Data columns (total 9 columns):\n",
      " #   Column                   Dtype         \n",
      "---  ------                   -----         \n",
      " 0   userId                   object        \n",
      " 1   userType                 object        \n",
      " 2   historySize              int64         \n",
      " 3   historyId                object        \n",
      " 4   timestampHistory         datetime64[ns]\n",
      " 5   numberOfClicksHistory    int64         \n",
      " 6   timeOnPageHistory        int64         \n",
      " 7   scrollPercentageHistory  float64       \n",
      " 8   pageVisitsCountHistory   int64         \n",
      "dtypes: datetime64[ns](1), float64(1), int64(4), object(3)\n",
      "memory usage: 557.8+ MB\n"
     ]
    }
   ],
   "source": [
    "df_exploded.info()"
   ]
  },
  {
   "cell_type": "markdown",
   "metadata": {},
   "source": [
    "## Analise Inicial - Itens"
   ]
  },
  {
   "cell_type": "code",
   "execution_count": 6,
   "metadata": {},
   "outputs": [
    {
     "name": "stdout",
     "output_type": "stream",
     "text": [
      "<class 'pandas.core.frame.DataFrame'>\n",
      "RangeIndex: 255603 entries, 0 to 255602\n",
      "Data columns (total 7 columns):\n",
      " #   Column    Non-Null Count   Dtype \n",
      "---  ------    --------------   ----- \n",
      " 0   page      255603 non-null  object\n",
      " 1   url       255603 non-null  object\n",
      " 2   issued    255603 non-null  object\n",
      " 3   modified  255603 non-null  object\n",
      " 4   title     255603 non-null  object\n",
      " 5   body      255603 non-null  object\n",
      " 6   caption   255603 non-null  object\n",
      "dtypes: object(7)\n",
      "memory usage: 13.7+ MB\n"
     ]
    }
   ],
   "source": [
    "df_itens.info()"
   ]
  },
  {
   "cell_type": "code",
   "execution_count": 56,
   "metadata": {},
   "outputs": [
    {
     "data": {
      "text/html": [
       "<div>\n",
       "<style scoped>\n",
       "    .dataframe tbody tr th:only-of-type {\n",
       "        vertical-align: middle;\n",
       "    }\n",
       "\n",
       "    .dataframe tbody tr th {\n",
       "        vertical-align: top;\n",
       "    }\n",
       "\n",
       "    .dataframe thead th {\n",
       "        text-align: right;\n",
       "    }\n",
       "</style>\n",
       "<table border=\"1\" class=\"dataframe\">\n",
       "  <thead>\n",
       "    <tr style=\"text-align: right;\">\n",
       "      <th></th>\n",
       "      <th>page</th>\n",
       "      <th>count</th>\n",
       "    </tr>\n",
       "  </thead>\n",
       "  <tbody>\n",
       "  </tbody>\n",
       "</table>\n",
       "</div>"
      ],
      "text/plain": [
       "Empty DataFrame\n",
       "Columns: [page, count]\n",
       "Index: []"
      ]
     },
     "execution_count": 56,
     "metadata": {},
     "output_type": "execute_result"
    }
   ],
   "source": [
    "# verificando paginas duplicadas\n",
    "(\n",
    "    df_itens.groupby(\"page\")\n",
    "    .size()\n",
    "    .reset_index(name=\"count\")\n",
    "    .query(\"count > 1\")\n",
    ")"
   ]
  },
  {
   "cell_type": "code",
   "execution_count": 57,
   "metadata": {},
   "outputs": [
    {
     "name": "stdout",
     "output_type": "stream",
     "text": [
      "<class 'pandas.core.frame.DataFrame'>\n",
      "RangeIndex: 255603 entries, 0 to 255602\n",
      "Data columns (total 7 columns):\n",
      " #   Column    Non-Null Count   Dtype \n",
      "---  ------    --------------   ----- \n",
      " 0   page      255603 non-null  object\n",
      " 1   url       255603 non-null  object\n",
      " 2   issued    255603 non-null  object\n",
      " 3   modified  255603 non-null  object\n",
      " 4   title     255603 non-null  object\n",
      " 5   body      255603 non-null  object\n",
      " 6   caption   255603 non-null  object\n",
      "dtypes: object(7)\n",
      "memory usage: 13.7+ MB\n"
     ]
    }
   ],
   "source": [
    "df_itens.info()"
   ]
  },
  {
   "cell_type": "markdown",
   "metadata": {},
   "source": [
    "## Analise dataset final"
   ]
  },
  {
   "cell_type": "code",
   "execution_count": 60,
   "metadata": {},
   "outputs": [],
   "source": [
    "df_itens = clean_items_data(df_itens_raw)\n",
    "df_treino = clean_train_data(df_treino_raw)"
   ]
  },
  {
   "cell_type": "code",
   "execution_count": 61,
   "metadata": {},
   "outputs": [],
   "source": [
    "df = df_treino.merge(df_itens, on=\"historyId\", how=\"left\")"
   ]
  },
  {
   "cell_type": "code",
   "execution_count": 62,
   "metadata": {},
   "outputs": [
    {
     "name": "stdout",
     "output_type": "stream",
     "text": [
      "<class 'pandas.core.frame.DataFrame'>\n",
      "RangeIndex: 8123951 entries, 0 to 8123950\n",
      "Data columns (total 12 columns):\n",
      " #   Column                   Dtype         \n",
      "---  ------                   -----         \n",
      " 0   userId                   object        \n",
      " 1   userType                 object        \n",
      " 2   historySize              int64         \n",
      " 3   historyId                object        \n",
      " 4   timestampHistory         datetime64[ns]\n",
      " 5   numberOfClicksHistory    int64         \n",
      " 6   timeOnPageHistory        int64         \n",
      " 7   scrollPercentageHistory  float64       \n",
      " 8   pageVisitsCountHistory   int64         \n",
      " 9   title                    object        \n",
      " 10  body                     object        \n",
      " 11  caption                  object        \n",
      "dtypes: datetime64[ns](1), float64(1), int64(4), object(6)\n",
      "memory usage: 743.8+ MB\n"
     ]
    }
   ],
   "source": [
    "df.info()"
   ]
  },
  {
   "cell_type": "code",
   "execution_count": 64,
   "metadata": {},
   "outputs": [
    {
     "data": {
      "text/plain": [
       "userId                     0.0\n",
       "userType                   0.0\n",
       "historySize                0.0\n",
       "historyId                  0.0\n",
       "timestampHistory           0.0\n",
       "numberOfClicksHistory      0.0\n",
       "timeOnPageHistory          0.0\n",
       "scrollPercentageHistory    0.0\n",
       "pageVisitsCountHistory     0.0\n",
       "title                      0.0\n",
       "body                       0.0\n",
       "caption                    0.0\n",
       "dtype: float64"
      ]
     },
     "execution_count": 64,
     "metadata": {},
     "output_type": "execute_result"
    }
   ],
   "source": [
    "df.isnull().mean()"
   ]
  },
  {
   "cell_type": "code",
   "execution_count": 63,
   "metadata": {},
   "outputs": [
    {
     "data": {
      "text/plain": [
       "<Axes: xlabel='timestampHistory'>"
      ]
     },
     "execution_count": 63,
     "metadata": {},
     "output_type": "execute_result"
    },
    {
     "data": {
      "image/png": "[encoded data removed]",
      "text/plain": [
       "<Figure size 1000x500 with 1 Axes>"
      ]
     },
     "metadata": {},
     "output_type": "display_data"
    }
   ],
   "source": [
    "# plotando registros por dia\n",
    "df[\"timestampHistory\"].dt.date.value_counts().sort_index().plot(kind=\"bar\", figsize=(10, 5))\n",
    "\n",
    "# podemos observar uma sasonalidade com menor consumo nos finais de semana e uma quantidade estacionaria no \"longo prazo\""
   ]
  },
  {
   "cell_type": "code",
   "execution_count": 68,
   "metadata": {},
   "outputs": [
    {
     "data": {
      "text/html": [
       "<div>\n",
       "<style scoped>\n",
       "    .dataframe tbody tr th:only-of-type {\n",
       "        vertical-align: middle;\n",
       "    }\n",
       "\n",
       "    .dataframe tbody tr th {\n",
       "        vertical-align: top;\n",
       "    }\n",
       "\n",
       "    .dataframe thead th {\n",
       "        text-align: right;\n",
       "    }\n",
       "</style>\n",
       "<table border=\"1\" class=\"dataframe\">\n",
       "  <thead>\n",
       "    <tr style=\"text-align: right;\">\n",
       "      <th></th>\n",
       "      <th>numberOfClicksHistory</th>\n",
       "      <th>timeOnPageHistory</th>\n",
       "      <th>scrollPercentageHistory</th>\n",
       "    </tr>\n",
       "    <tr>\n",
       "      <th>userType</th>\n",
       "      <th></th>\n",
       "      <th></th>\n",
       "      <th></th>\n",
       "    </tr>\n",
       "  </thead>\n",
       "  <tbody>\n",
       "    <tr>\n",
       "      <th>Logged</th>\n",
       "      <td>12.835719</td>\n",
       "      <td>85826.121607</td>\n",
       "      <td>55.572390</td>\n",
       "    </tr>\n",
       "    <tr>\n",
       "      <th>Non-Logged</th>\n",
       "      <td>11.407094</td>\n",
       "      <td>91201.351952</td>\n",
       "      <td>52.710144</td>\n",
       "    </tr>\n",
       "  </tbody>\n",
       "</table>\n",
       "</div>"
      ],
      "text/plain": [
       "            numberOfClicksHistory  timeOnPageHistory  scrollPercentageHistory\n",
       "userType                                                                     \n",
       "Logged                  12.835719       85826.121607                55.572390\n",
       "Non-Logged              11.407094       91201.351952                52.710144"
      ]
     },
     "execution_count": 68,
     "metadata": {},
     "output_type": "execute_result"
    }
   ],
   "source": [
    "# Engajamento por tipo de usuario\n",
    "df.groupby(\"userType\")[[\"numberOfClicksHistory\", \"timeOnPageHistory\", \"scrollPercentageHistory\"]].mean()\n"
   ]
  },
  {
   "cell_type": "code",
   "execution_count": 75,
   "metadata": {},
   "outputs": [
    {
     "data": {
      "image/png": "[encoded data removed]",
      "text/plain": [
       "<Figure size 1500x500 with 2 Axes>"
      ]
     },
     "metadata": {},
     "output_type": "display_data"
    }
   ],
   "source": [
    "# Entendendo os padrões temporais\n",
    "df[\"hour\"] = df[\"timestampHistory\"].dt.hour\n",
    "df[\"weekday\"] = df[\"timestampHistory\"].dt.day_name()\n",
    "\n",
    "f, ax = plt.subplots(1, 2, figsize=(15, 5))\n",
    "\n",
    "df.groupby(\"hour\")[\"historyId\"].count().plot(kind=\"bar\", ax=ax[0], title=\"Consumo por Hora\")\n",
    "df.groupby(\"weekday\")[\"historyId\"].count().plot(kind=\"bar\", ax=ax[1], title=\"Consumo por Dia da Semana\")\n",
    "\n",
    "plt.show()"
   ]
  },
  {
   "cell_type": "code",
   "execution_count": 74,
   "metadata": {},
   "outputs": [
    {
     "name": "stdout",
     "output_type": "stream",
     "text": [
      "historyId\n",
      "d2593c3d-2347-40d9-948c-b6065e8459a9    25075\n",
      "f6b5d170-48b9-4f8e-88d4-c84b6668f3bd    22179\n",
      "1f32787b-de2b-49be-8c20-ddaeae34cc22    19519\n",
      "f0a78e58-ec7e-494c-9462-fbd6446a9a89    18361\n",
      "6a83890a-d9e9-4f6b-a6c6-90d031785bbf    18101\n",
      "855d20b7-53f2-4678-a10f-55402d085018    17105\n",
      "4c63d7cd-4902-4ffb-9b94-578b1b2151f0    16758\n",
      "1c27cf97-b20c-4e40-b1f1-288b721517b3    16428\n",
      "bf257382-74fb-4392-ad6a-143240e39f81    16405\n",
      "a36c98b5-f159-48f8-9f5a-1fc6ea9956c8    15885\n",
      "Name: count, dtype: int64\n"
     ]
    },
    {
     "data": {
      "text/html": [
       "<div>\n",
       "<style scoped>\n",
       "    .dataframe tbody tr th:only-of-type {\n",
       "        vertical-align: middle;\n",
       "    }\n",
       "\n",
       "    .dataframe tbody tr th {\n",
       "        vertical-align: top;\n",
       "    }\n",
       "\n",
       "    .dataframe thead th {\n",
       "        text-align: right;\n",
       "    }\n",
       "</style>\n",
       "<table border=\"1\" class=\"dataframe\">\n",
       "  <thead>\n",
       "    <tr style=\"text-align: right;\">\n",
       "      <th></th>\n",
       "      <th>title</th>\n",
       "      <th>body</th>\n",
       "      <th>caption</th>\n",
       "    </tr>\n",
       "  </thead>\n",
       "  <tbody>\n",
       "    <tr>\n",
       "      <th>22</th>\n",
       "      <td>Diretor da Caixa Econômica Federal é encontrad...</td>\n",
       "      <td>Sede da Caixa Econômica Federal em Brasília.\\n...</td>\n",
       "      <td>Sérgio Ricardo Faustino Batista ocupava a dire...</td>\n",
       "    </tr>\n",
       "    <tr>\n",
       "      <th>42</th>\n",
       "      <td>Anestesista é preso em flagrante por estupro d...</td>\n",
       "      <td>Vídeo mostra momento em que anestesista estupr...</td>\n",
       "      <td>Giovanni Quintella Bezerra foi filmado por fun...</td>\n",
       "    </tr>\n",
       "    <tr>\n",
       "      <th>252</th>\n",
       "      <td>Filha é presa por golpe estimado em R$ 725 mil...</td>\n",
       "      <td>Filha é presa por golpe estimado em R$ 725 mil...</td>\n",
       "      <td>\\nSegundo as investigações, a filha contratou ...</td>\n",
       "    </tr>\n",
       "    <tr>\n",
       "      <th>289</th>\n",
       "      <td>Jô Soares, ícone do humor e da TV, morre em Sã...</td>\n",
       "      <td>Jô Soares morre aos 84 anos em São Paulo\\nO ap...</td>\n",
       "      <td>Apresentador e humorista estava internado no H...</td>\n",
       "    </tr>\n",
       "    <tr>\n",
       "      <th>649</th>\n",
       "      <td>Campeão mundial de jiu-jítsu, Leandro Lo é bal...</td>\n",
       "      <td>Campeão mundial de jiu-jítsu, Leandro Lo é bal...</td>\n",
       "      <td>Segundo o advogado da família, foi confirmada ...</td>\n",
       "    </tr>\n",
       "    <tr>\n",
       "      <th>734</th>\n",
       "      <td>‘Tímido e discreto’: saiba quem era filho de C...</td>\n",
       "      <td>Ronaldo Ramos Caiado Filho, filho do governado...</td>\n",
       "      <td>Ele é o segundo filho do governador e formado ...</td>\n",
       "    </tr>\n",
       "    <tr>\n",
       "      <th>803</th>\n",
       "      <td>Caso Bárbara: suspeito de envolvimento no assa...</td>\n",
       "      <td>Vídeo mostra a menina Bárbara Victória sendo a...</td>\n",
       "      <td>Causa da morte é apurada. Menina de 10 anos, q...</td>\n",
       "    </tr>\n",
       "    <tr>\n",
       "      <th>1092</th>\n",
       "      <td>Pizzaria recebe PIX falso e entrega refrigeran...</td>\n",
       "      <td>Golpe do Pix: empresa entrega pizza e refriger...</td>\n",
       "      <td>Com ajuda de funcionários, dono do estabelecim...</td>\n",
       "    </tr>\n",
       "    <tr>\n",
       "      <th>1179</th>\n",
       "      <td>Vídeos mostram diferentes ângulos do ataque ao...</td>\n",
       "      <td>Morte de Shinzo Abe: vídeo mostra momento do a...</td>\n",
       "      <td>Ex-primeiro-ministro foi atingido durante disc...</td>\n",
       "    </tr>\n",
       "    <tr>\n",
       "      <th>1255</th>\n",
       "      <td>Vídeo flagra homem atirando na cabeça de vizin...</td>\n",
       "      <td>Homem atira na cabeça de vizinho que limpava c...</td>\n",
       "      <td>Crime ocorreu neste domingo (24), em Chapadão ...</td>\n",
       "    </tr>\n",
       "  </tbody>\n",
       "</table>\n",
       "</div>"
      ],
      "text/plain": [
       "                                                  title  \\\n",
       "22    Diretor da Caixa Econômica Federal é encontrad...   \n",
       "42    Anestesista é preso em flagrante por estupro d...   \n",
       "252   Filha é presa por golpe estimado em R$ 725 mil...   \n",
       "289   Jô Soares, ícone do humor e da TV, morre em Sã...   \n",
       "649   Campeão mundial de jiu-jítsu, Leandro Lo é bal...   \n",
       "734   ‘Tímido e discreto’: saiba quem era filho de C...   \n",
       "803   Caso Bárbara: suspeito de envolvimento no assa...   \n",
       "1092  Pizzaria recebe PIX falso e entrega refrigeran...   \n",
       "1179  Vídeos mostram diferentes ângulos do ataque ao...   \n",
       "1255  Vídeo flagra homem atirando na cabeça de vizin...   \n",
       "\n",
       "                                                   body  \\\n",
       "22    Sede da Caixa Econômica Federal em Brasília.\\n...   \n",
       "42    Vídeo mostra momento em que anestesista estupr...   \n",
       "252   Filha é presa por golpe estimado em R$ 725 mil...   \n",
       "289   Jô Soares morre aos 84 anos em São Paulo\\nO ap...   \n",
       "649   Campeão mundial de jiu-jítsu, Leandro Lo é bal...   \n",
       "734   Ronaldo Ramos Caiado Filho, filho do governado...   \n",
       "803   Vídeo mostra a menina Bárbara Victória sendo a...   \n",
       "1092  Golpe do Pix: empresa entrega pizza e refriger...   \n",
       "1179  Morte de Shinzo Abe: vídeo mostra momento do a...   \n",
       "1255  Homem atira na cabeça de vizinho que limpava c...   \n",
       "\n",
       "                                                caption  \n",
       "22    Sérgio Ricardo Faustino Batista ocupava a dire...  \n",
       "42    Giovanni Quintella Bezerra foi filmado por fun...  \n",
       "252   \\nSegundo as investigações, a filha contratou ...  \n",
       "289   Apresentador e humorista estava internado no H...  \n",
       "649   Segundo o advogado da família, foi confirmada ...  \n",
       "734   Ele é o segundo filho do governador e formado ...  \n",
       "803   Causa da morte é apurada. Menina de 10 anos, q...  \n",
       "1092  Com ajuda de funcionários, dono do estabelecim...  \n",
       "1179  Ex-primeiro-ministro foi atingido durante disc...  \n",
       "1255  Crime ocorreu neste domingo (24), em Chapadão ...  "
      ]
     },
     "execution_count": 74,
     "metadata": {},
     "output_type": "execute_result"
    }
   ],
   "source": [
    "# noticias populares\n",
    "popular_news = df[\"historyId\"].value_counts().head(10)\n",
    "print(popular_news)\n",
    "\n",
    "df[df[\"historyId\"].isin(popular_news.index)][[\"title\", \"body\", \"caption\"]].drop_duplicates()\n"
   ]
  },
  {
   "cell_type": "code",
   "execution_count": null,
   "metadata": {},
   "outputs": [],
   "source": []
  }
 ],
 "metadata": {
  "kernelspec": {
   "display_name": "datathon",
   "language": "python",
   "name": "python3"
  },
  "language_info": {
   "codemirror_mode": {
    "name": "ipython",
    "version": 3
   },
   "file_extension": ".py",
   "mimetype": "text/x-python",
   "name": "python",
   "nbconvert_exporter": "python",
   "pygments_lexer": "ipython3",
   "version": "3.12.8"
  }
 },
 "nbformat": 4,
 "nbformat_minor": 2
}
