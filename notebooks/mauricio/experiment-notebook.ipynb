{
 "cells": [
  {
   "cell_type": "markdown",
   "metadata": {},
   "source": [
    "# Experiment Tracking com MLflow\n",
    "\n",
    "Este notebook demonstra como usar o MLflow para tracking de experimentos com nosso modelo mockado de recomendação."
   ]
  },
  {
   "cell_type": "code",
   "execution_count": 1,
   "metadata": {},
   "outputs": [
    {
     "name": "stderr",
     "output_type": "stream",
     "text": [
      "2025-02-09 19:14:44,097 - INFO - Ambiente: dev\n"
     ]
    }
   ],
   "source": [
    "import os\n",
    "import sys\n",
    "import pandas as pd\n",
    "import mlflow\n",
    "\n",
    "# Adiciona o diretório src ao PYTHONPATH\n",
    "project_dir = os.path.abspath(os.path.join(os.getcwd(), '../../'))\n",
    "if project_dir not in sys.path:\n",
    "    sys.path.append(project_dir)\n",
    "\n",
    "from src.config import configure_mlflow, get_config\n",
    "from src.recomendation_model.mocked_model import MockedRecommender, MLflowWrapper\n",
    "from src.features.schemas import get_model_signature, create_mock_input_example\n",
    "from src.predict.predict import predict_for_user_id\n",
    "from src.evaluation.utils import evaluate_model\n",
    "from src.train.utils import load_train_data\n",
    "from src.data.data_loader import get_evaluation_data"
   ]
  },
  {
   "cell_type": "markdown",
   "metadata": {},
   "source": [
    "## 1. Configuração do MLflow"
   ]
  },
  {
   "cell_type": "code",
   "execution_count": 2,
   "metadata": {},
   "outputs": [],
   "source": [
    "# Configura o MLflow\n",
    "configure_mlflow()"
   ]
  },
  {
   "cell_type": "code",
   "execution_count": 3,
   "metadata": {},
   "outputs": [],
   "source": [
    "model_params = {\n",
    "    'threshold': 0.5,\n",
    "    'top_k': 5\n",
    "}"
   ]
  },
  {
   "cell_type": "markdown",
   "metadata": {},
   "source": [
    "## 2. Treinamento e Tracking"
   ]
  },
  {
   "cell_type": "code",
   "execution_count": 4,
   "metadata": {},
   "outputs": [
    {
     "name": "stderr",
     "output_type": "stream",
     "text": [
      "2025/02/09 19:14:45 INFO mlflow.pyfunc: Validating input example against model signature\n"
     ]
    },
    {
     "name": "stdout",
     "output_type": "stream",
     "text": [
      "🏃 View run skillful-wolf-835 at: http://localhost:5001/#/experiments/1/runs/9f03d1b328414fc2a92038155baaa17c\n",
      "🧪 View experiment at: http://localhost:5001/#/experiments/1\n"
     ]
    }
   ],
   "source": [
    "X_train, y_train = load_train_data()\n",
    "evaluation_data = get_evaluation_data()\n",
    "\n",
    "input_example = create_mock_input_example()\n",
    "\n",
    "\n",
    "# Inicia um novo experimento\n",
    "with mlflow.start_run() as run:\n",
    "    # Cria e treina o modelo\n",
    "    model = MockedRecommender(**model_params)\n",
    "    model.train(X_train, y_train)\n",
    "    \n",
    "    # Loga parâmetros\n",
    "    mlflow.log_params(model_params)\n",
    "    \n",
    "    # Loga métricas\n",
    "    metrics = evaluate_model(model, evaluation_data)\n",
    "    mlflow.log_metrics(metrics)\n",
    "    \n",
    "    # Salva o modelo usando o wrapper e a signature\n",
    "    wrapper = MLflowWrapper(model)\n",
    "    mlflow.pyfunc.log_model(\n",
    "        artifact_path=get_config('MODEL_NAME'),\n",
    "        python_model=wrapper,\n",
    "        signature=get_model_signature(),\n",
    "        input_example=input_example\n",
    "    )\n",
    "    \n",
    "    # Guarda o run_id\n",
    "    run_id = run.info.run_id\n"
   ]
  },
  {
   "cell_type": "markdown",
   "metadata": {},
   "source": [
    "## 3. Carregamento e Predição"
   ]
  },
  {
   "cell_type": "code",
   "execution_count": 5,
   "metadata": {},
   "outputs": [
    {
     "name": "stdout",
     "output_type": "stream",
     "text": [
      "Predictions: [0.5]\n",
      "Original predictions: [0.5]\n"
     ]
    }
   ],
   "source": [
    "loaded_model = mlflow.pyfunc.load_model(f\"runs:/{run_id}/{get_config('MODEL_NAME')}\")\n",
    "\n",
    "# Faz predições com o modelo carregado\n",
    "predictions = loaded_model.predict(input_example)\n",
    "print(f\"Predictions: {predictions}\")\n",
    "\n",
    "# Teste com o modelo original também\n",
    "original_predictions = model.predict(input_example)\n",
    "print(f\"Original predictions: {original_predictions}\")"
   ]
  },
  {
   "cell_type": "code",
   "execution_count": null,
   "metadata": {},
   "outputs": [],
   "source": []
  }
 ],
 "metadata": {
  "kernelspec": {
   "display_name": "datathon",
   "language": "python",
   "name": "python3"
  },
  "language_info": {
   "codemirror_mode": {
    "name": "ipython",
    "version": 3
   },
   "file_extension": ".py",
   "mimetype": "text/x-python",
   "name": "python",
   "nbconvert_exporter": "python",
   "pygments_lexer": "ipython3",
   "version": "3.12.8"
  }
 },
 "nbformat": 4,
 "nbformat_minor": 4
}
