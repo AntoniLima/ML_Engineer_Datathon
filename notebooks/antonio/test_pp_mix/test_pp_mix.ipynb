{
 "cells": [
  {
   "cell_type": "markdown",
   "metadata": {},
   "source": [
    "## Testando a função generate_suggested_feats"
   ]
  },
  {
   "cell_type": "code",
   "execution_count": null,
   "metadata": {},
   "outputs": [],
   "source": [
    "#libs utilizadas\n",
    "import pandas as pd\n",
    "import pytest\n",
    "from pandas.testing import assert_frame_equal\n",
    "\n",
    "# Importe a função que você deseja testar\n",
    "from src.features.pp_mix import generate_suggested_feats    "
   ]
  },
  {
   "cell_type": "code",
   "execution_count": null,
   "metadata": {},
   "outputs": [],
   "source": [
    "generate_suggested_feats(df_mix: pd.DataFrame,\n",
    "                        state_df: pd.DataFrame,\n",
    "                        region_df: pd.DataFrame,\n",
    "                        tm_df: pd.DataFrame,\n",
    "                        ts_df: pd.DataFrame) -> pd.DataFrame:"
   ]
  },
  {
   "cell_type": "code",
   "execution_count": null,
   "metadata": {},
   "outputs": [
    {
     "ename": "ModuleNotFoundError",
     "evalue": "No module named 'src'",
     "output_type": "error",
     "traceback": [
      "\u001b[1;31m---------------------------------------------------------------------------\u001b[0m",
      "\u001b[1;31mModuleNotFoundError\u001b[0m                       Traceback (most recent call last)",
      "Cell \u001b[1;32mIn[3], line 2\u001b[0m\n\u001b[0;32m      1\u001b[0m \u001b[38;5;66;03m# Defina as colunas que você usa em sua função\u001b[39;00m\n\u001b[1;32m----> 2\u001b[0m \u001b[38;5;28;01mfrom\u001b[39;00m \u001b[38;5;21;01msrc\u001b[39;00m\u001b[38;5;21;01m.\u001b[39;00m\u001b[38;5;21;01mfeatures\u001b[39;00m\u001b[38;5;21;01m.\u001b[39;00m\u001b[38;5;21;01mconstants\u001b[39;00m \u001b[38;5;28;01mimport\u001b[39;00m (\n\u001b[0;32m      3\u001b[0m     MIX_FEATS_COLS,\n\u001b[0;32m      4\u001b[0m     STATE_COLS,\n\u001b[0;32m      5\u001b[0m     REGION_COLS,\n\u001b[0;32m      6\u001b[0m     THEME_MAIN_COLS,\n\u001b[0;32m      7\u001b[0m     THEME_SUB_COLS,\n\u001b[0;32m      8\u001b[0m     GAP_COLS,\n\u001b[0;32m      9\u001b[0m     FINAL_MIX_FEAT_COLS,\n\u001b[0;32m     10\u001b[0m )\n",
      "\u001b[1;31mModuleNotFoundError\u001b[0m: No module named 'src'"
     ]
    }
   ],
   "source": [
    "# Defina as colunas que você usa em sua função\n",
    "from src.features.constants import (\n",
    "    MIX_FEATS_COLS,\n",
    "    STATE_COLS,\n",
    "    REGION_COLS,\n",
    "    THEME_MAIN_COLS,\n",
    "    THEME_SUB_COLS,\n",
    "    GAP_COLS,\n",
    "    FINAL_MIX_FEAT_COLS,\n",
    ")\n"
   ]
  },
  {
   "cell_type": "code",
   "execution_count": null,
   "metadata": {},
   "outputs": [],
   "source": [
    "# Dataframes de teste\n",
    "@pytest.fixture\n",
    "def df_mix():\n",
    "    return pd.DataFrame({\n",
    "        \"userId\": [1, 2, 3],\n",
    "        \"localState\": [\"SP\", \"RJ\", \"MG\"],\n",
    "        \"localRegion\": [\"Sudeste\", \"Sudeste\", \"Sudeste\"],\n",
    "        \"themeMain\": [\"Esportes\", \"Notícias\", \"Entretenimento\"],\n",
    "        \"themeSub\": [\"Futebol\", \"Política\", \"Cinema\"],\n",
    "        \"outra_coluna\": [10, 20, 30]\n",
    "    })\n",
    "\n",
    "@pytest.fixture\n",
    "def state_df():\n",
    "    return pd.DataFrame({\n",
    "        \"userId\": [1, 2, 3],\n",
    "        \"localState\": [\"SP\", \"RJ\", \"MG\"],\n",
    "        \"state_feature\": [\"SP_info\", \"RJ_info\", \"MG_info\"]\n",
    "    })\n",
    "\n",
    "@pytest.fixture\n",
    "def region_df():\n",
    "    return pd.DataFrame({\n",
    "        \"userId\": [1, 2, 3],\n",
    "        \"localRegion\": [\"Sudeste\", \"Sudeste\", \"Sudeste\"],\n",
    "        \"region_feature\": [\"Sudeste_info\", \"Sudeste_info\", \"Sudeste_info\"]\n",
    "    })\n",
    "\n",
    "@pytest.fixture\n",
    "def tm_df():\n",
    "    return pd.DataFrame({\n",
    "        \"userId\": [1, 2, 3],\n",
    "        \"themeMain\": [\"Esportes\", \"Notícias\", \"Entretenimento\"],\n",
    "        \"theme_main_feature\": [\"Esportes_info\", \"Notícias_info\", \"Entretenimento_info\"]\n",
    "    })\n",
    "\n",
    "@pytest.fixture\n",
    "def ts_df():\n",
    "    return pd.DataFrame({\n",
    "        \"userId\": [1, 2, 3],\n",
    "        \"themeSub\": [\"Futebol\", \"Política\", \"Cinema\"],\n",
    "        \"theme_sub_feature\": [\"Futebol_info\", \"Política_info\", \"Cinema_info\"]\n",
    "    })"
   ]
  }
 ],
 "metadata": {
  "kernelspec": {
   "display_name": "Python (Datathon)",
   "language": "python",
   "name": "datathon"
  },
  "language_info": {
   "codemirror_mode": {
    "name": "ipython",
    "version": 3
   },
   "file_extension": ".py",
   "mimetype": "text/x-python",
   "name": "python",
   "nbconvert_exporter": "python",
   "pygments_lexer": "ipython3",
   "version": "3.11.7"
  }
 },
 "nbformat": 4,
 "nbformat_minor": 2
}
